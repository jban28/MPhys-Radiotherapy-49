{
  "nbformat": 4,
  "nbformat_minor": 0,
  "metadata": {
    "colab": {
      "name": "MPhys.ipynb",
      "provenance": [],
      "collapsed_sections": [
        "zzE7_7waF7_S"
      ],
      "toc_visible": true,
      "mount_file_id": "1nvXeUqR_sCNo9o0iFkHYwrf2QID4MfAe",
      "authorship_tag": "ABX9TyOMZ1gZTv/IBNj70CJiGWdY",
      "include_colab_link": true
    },
    "kernelspec": {
      "display_name": "Python 3",
      "name": "python3"
    },
    "language_info": {
      "name": "python"
    },
    "accelerator": "GPU"
  },
  "cells": [
    {
      "cell_type": "markdown",
      "metadata": {
        "id": "view-in-github",
        "colab_type": "text"
      },
      "source": [
        "<a href=\"https://colab.research.google.com/github/jban28/MPhys-Radiotherapy-49/blob/main/MPhys.ipynb\" target=\"_parent\"><img src=\"https://colab.research.google.com/assets/colab-badge.svg\" alt=\"Open In Colab\"/></a>"
      ]
    },
    {
      "cell_type": "markdown",
      "metadata": {
        "id": "0E8F_po0K_Wu"
      },
      "source": [
        "## Pre-requisites\n",
        "This block makes the necessary installations and imports for the rest of the code blocks to run, connects to the GPU if one is available, and specifies the location of the folder containing the data. That data folder should contain a sub-folder containing all nifti files, along with a metadata csv file."
      ]
    },
    {
      "cell_type": "code",
      "metadata": {
        "colab": {
          "base_uri": "https://localhost:8080/"
        },
        "id": "5Egh9uSI77b2",
        "outputId": "acee7c72-0525-4172-dcd2-6c29f3285ee6"
      },
      "source": [
        "!pip install torch torchvision\n",
        "!pip install opencv-contrib-python\n",
        "!pip install scikit-learn\n",
        "!pip install SimpleITK\n",
        "\n",
        "import numpy as np\n",
        "import random\n",
        "import os\n",
        "import matplotlib.pyplot as plt\n",
        "import SimpleITK as sitk\n",
        "import torch\n",
        "\n",
        "from mpl_toolkits.mplot3d import Axes3D\n",
        "from torch.nn import Module\n",
        "from torch.nn import Conv3d\n",
        "from torch.nn import Linear\n",
        "from torch.nn import MaxPool2d\n",
        "from torch.nn import ReLU\n",
        "from torch.nn import LogSoftmax\n",
        "from torch import flatten\n",
        "from torch import nn\n",
        "from torch import reshape\n",
        "from torch.utils.data import Dataset\n",
        "from torch.utils.data import DataLoader\n",
        "from torchvision import transforms\n",
        "from torchvision import datasets\n",
        "from torch.optim import Adam\n",
        "import torchvision.models as models\n",
        "from torch.autograd import \n",
        "from torchvision.io import read_image\n",
        "\n",
        "\n",
        "# Connect to GPU is available\n",
        "device = 'cuda' if torch.cuda.is_available() else 'cpu'\n",
        "print(f'Using {device} device')\n",
        "\n",
        "# Specify project folder location\n",
        "project_folder = \"/content/drive/My Drive/Degree/MPhys/Data/\""
      ],
      "execution_count": 1,
      "outputs": [
        {
          "output_type": "stream",
          "name": "stdout",
          "text": [
            "Requirement already satisfied: torch in /usr/local/lib/python3.7/dist-packages (1.10.0+cu111)\n",
            "Requirement already satisfied: torchvision in /usr/local/lib/python3.7/dist-packages (0.11.1+cu111)\n",
            "Requirement already satisfied: typing-extensions in /usr/local/lib/python3.7/dist-packages (from torch) (3.10.0.2)\n",
            "Requirement already satisfied: numpy in /usr/local/lib/python3.7/dist-packages (from torchvision) (1.19.5)\n",
            "Requirement already satisfied: pillow!=8.3.0,>=5.3.0 in /usr/local/lib/python3.7/dist-packages (from torchvision) (7.1.2)\n",
            "Requirement already satisfied: opencv-contrib-python in /usr/local/lib/python3.7/dist-packages (4.1.2.30)\n",
            "Requirement already satisfied: numpy>=1.14.5 in /usr/local/lib/python3.7/dist-packages (from opencv-contrib-python) (1.19.5)\n",
            "Requirement already satisfied: scikit-learn in /usr/local/lib/python3.7/dist-packages (1.0.1)\n",
            "Requirement already satisfied: joblib>=0.11 in /usr/local/lib/python3.7/dist-packages (from scikit-learn) (1.1.0)\n",
            "Requirement already satisfied: numpy>=1.14.6 in /usr/local/lib/python3.7/dist-packages (from scikit-learn) (1.19.5)\n",
            "Requirement already satisfied: threadpoolctl>=2.0.0 in /usr/local/lib/python3.7/dist-packages (from scikit-learn) (3.0.0)\n",
            "Requirement already satisfied: scipy>=1.1.0 in /usr/local/lib/python3.7/dist-packages (from scikit-learn) (1.4.1)\n",
            "Requirement already satisfied: SimpleITK in /usr/local/lib/python3.7/dist-packages (2.1.1)\n",
            "Using cuda device\n"
          ]
        }
      ]
    },
    {
      "cell_type": "markdown",
      "metadata": {
        "id": "zzE7_7waF7_S"
      },
      "source": [
        "## Define arrays of patient and outcome data\n",
        "This block allows you to specify the criteria which defines the patient outcome as True or False. It then loops through all the patients in the metadata.csv file, searches for their corresponding image in the image folder, and then adds patient and outcome to either the training, testing, or validation array"
      ]
    },
    {
      "cell_type": "code",
      "metadata": {
        "colab": {
          "base_uri": "https://localhost:8080/"
        },
        "id": "0KFIqmcw83Cl",
        "outputId": "672add7d-25b6-4319-971c-9c5b4c59518f"
      },
      "source": [
        "# Open the metadata.csv file, convert to an array, and remove column headers\n",
        "metadata_file = open(project_folder + \"metadata.csv\")\n",
        "metadata = np.loadtxt(metadata_file, dtype=\"str\", delimiter=\",\")\n",
        "metadata = metadata[1:][:]\n",
        "\n",
        "# Set the values which are used to define the outcome for each patient\n",
        "outcome_type = 1 #int(input(\"Select which outcome you are aiming to predict \\n(1=Locoregional, 2=Distant Metastasis, 3=Death):\"))\n",
        "check_day = 3000 #int(input(\"Select the number of days at which to check for event:\"))\n",
        "which_patients = 1 #int(input(\"Do you want to include patients whose last follow up is before the check day? (no = 0, yes = 1):\"))\n",
        "\n",
        "# Create empty arrays to store patient names and outcomes in\n",
        "patient_with_event = []\n",
        "patient_no_event = []\n",
        "outcomes_train = []\n",
        "outcomes_test = []\n",
        "images = []\n",
        "\n",
        "# Loop through each patient and identify whether they are true or false for the specified outcome from above\n",
        "for patient in metadata:\n",
        "  if (patient[(5+outcome_type)] == \"\") and (int(patient[5]) >= check_day):\n",
        "    # Last follow up after check day, no event\n",
        "    outcome = 0\n",
        "  elif (patient[(5+outcome_type)] == \"\") and (int(patient[5]) < check_day) and (which_patients == 0):\n",
        "    # Last follow up before check day, event unknown\n",
        "    continue\n",
        "  elif (patient[(5+outcome_type)] == \"\") and (int(patient[5]) < check_day) and (which_patients == 1):\n",
        "    outcome = 0\n",
        "  elif int(patient[(5+outcome_type)]) <= check_day:\n",
        "    # Event occurred before or on check day\n",
        "    outcome = 1\n",
        "  else:\n",
        "    # Event occurred after check day\n",
        "    outcome = 0\n",
        "  # No Image file found for patient\n",
        "  if not os.path.exists(project_folder + \"crop/\" + patient[0] + \".nii\"):\n",
        "    print(\"No image found for patient \" + patient[0])\n",
        "    continue\n",
        "  \n",
        "  if outcome == 1:\n",
        "    patient_with_event.append([patient[0], outcome])\n",
        "  else:\n",
        "    patient_no_event.append([patient[0], outcome])\n",
        "\n",
        "# Make arrays the same length\n",
        "if len(patient_with_event) < len(patient_no_event):\n",
        "  new_patient_no_event = random.sample(patient_no_event,len(patient_with_event))\n",
        "  new_patient_with_event = patient_with_event\n",
        "elif len(patient_with_event) > len(patient_no_event):\n",
        "  new_patient_with_event = random.sample(patient_with_event, len(patient_no_event))\n",
        "  new_patient_no_event = patient_no_event\n",
        "elif len(patient_with_event) == len(patient_no_event):\n",
        "  new_patient_no_event = patient_no_event\n",
        "  new_patient_with_event = patient_with_event\n",
        "\n",
        "# Add patient name, outcome and image to array\n",
        "seventy_percent_event = int(0.7*len(new_patient_with_event))\n",
        "seventy_percent_no_event = int(0.7*len(new_patient_no_event))\n",
        "\n",
        "train_patients_event = random.sample(new_patient_with_event, seventy_percent_event)\n",
        "train_patients_no_event = random.sample(new_patient_no_event, seventy_percent_no_event)\n",
        "\n",
        "def remove(small_array, original_array):\n",
        "  for i in small_array:\n",
        "    original_array.remove(i)\n",
        "    \n",
        "  return original_array\n",
        "\n",
        "new_patients_with_event = remove(train_patients_event, new_patient_with_event)\n",
        "new_patient_no_event = remove(train_patients_no_event, new_patient_no_event)\n",
        "\n",
        "fifty_percent_event = int(0.5*len(new_patient_with_event))\n",
        "fifty_percent_no_event = int(0.5*len(new_patient_no_event))\n",
        "\n",
        "validate_patients_event = random.sample(new_patient_with_event, fifty_percent_event)\n",
        "validate_patients_no_event = random.sample(new_patient_no_event, fifty_percent_event)\n",
        "\n",
        "new_patients_with_event = remove(validate_patients_event, new_patient_with_event)\n",
        "new_patient_no_event = remove(validate_patients_no_event, new_patient_no_event)\n",
        "\n",
        "test_patients_event = new_patient_with_event\n",
        "test_patients_no_event = new_patient_no_event\n",
        "\n",
        "outcomes_train = train_patients_event + train_patients_no_event\n",
        "outcomes_validate = validate_patients_event + validate_patients_no_event\n",
        "outcomes_test = test_patients_event + test_patients_no_event\n",
        "\n",
        "print(outcomes_train)\n",
        "print(outcomes_validate)\n",
        "print(outcomes_test)"
      ],
      "execution_count": 2,
      "outputs": [
        {
          "output_type": "stream",
          "name": "stdout",
          "text": [
            "No image found for patient HN-CHUM-005\n",
            "No image found for patient HN-CHUM-016\n",
            "No image found for patient HN-CHUM-040\n",
            "No image found for patient HN-CHUM-051\n",
            "No image found for patient HN-CHUS-033\n",
            "No image found for patient HN-CHUS-086\n",
            "No image found for patient HN-CHUS-089\n",
            "No image found for patient HN-CHUS-093\n",
            "No image found for patient HN-CHUS-096\n",
            "No image found for patient HN-CHUS-099\n",
            "No image found for patient HN-CHUS-100\n",
            "No image found for patient HN-CHUS-101\n",
            "No image found for patient HN-HGJ-003\n",
            "No image found for patient HN-HGJ-008\n",
            "No image found for patient HN-HGJ-010\n",
            "No image found for patient HN-HGJ-028\n",
            "No image found for patient HN-HGJ-034\n",
            "No image found for patient HN-HGJ-038\n",
            "No image found for patient HN-HGJ-041\n",
            "No image found for patient HN-HGJ-046\n",
            "No image found for patient HN-HGJ-047\n",
            "No image found for patient HN-HGJ-048\n",
            "No image found for patient HN-HGJ-054\n",
            "No image found for patient HN-HGJ-055\n",
            "No image found for patient HN-HGJ-056\n",
            "No image found for patient HN-HGJ-063\n",
            "No image found for patient HN-HGJ-064\n",
            "No image found for patient HN-HGJ-065\n",
            "No image found for patient HN-HGJ-066\n",
            "No image found for patient HN-HGJ-069\n",
            "No image found for patient HN-HGJ-071\n",
            "No image found for patient HN-HGJ-074\n",
            "No image found for patient HN-HGJ-079\n",
            "No image found for patient HN-HGJ-082\n",
            "No image found for patient HN-HGJ-083\n",
            "No image found for patient HN-HGJ-084\n",
            "No image found for patient HN-HGJ-087\n",
            "No image found for patient HN-HGJ-088\n",
            "No image found for patient HN-HGJ-089\n",
            "No image found for patient HN-HGJ-090\n",
            "No image found for patient HN-HGJ-091\n",
            "No image found for patient HN-HGJ-092\n",
            "No image found for patient HN-HMR-003\n",
            "No image found for patient HN-HMR-004\n",
            "No image found for patient HN-HMR-005\n",
            "No image found for patient HN-HMR-007\n",
            "No image found for patient HN-HMR-009\n",
            "No image found for patient HN-HMR-021\n",
            "No image found for patient HN-HMR-024\n",
            "No image found for patient HN-HMR-027\n",
            "No image found for patient HN-HMR-028\n",
            "No image found for patient HN-HMR-029\n",
            "No image found for patient HN-HMR-032\n",
            "No image found for patient HN-HMR-039\n",
            "[['HN-CHUM-028', 1], ['HN-HMR-001', 1], ['HN-CHUM-020', 1], ['HN-HGJ-001', 1], ['HN-HGJ-045', 1], ['HN-HMR-022', 1], ['HN-HMR-038', 1], ['HN-HGJ-018', 1], ['HN-CHUM-063', 1], ['HN-HGJ-031', 1], ['HN-HMR-035', 1], ['HN-HGJ-078', 1], ['HN-HMR-015', 1], ['HN-HMR-019', 0], ['HN-CHUM-055', 0], ['HN-CHUM-025', 0], ['HN-CHUM-032', 0], ['HN-HGJ-050', 0], ['HN-CHUM-050', 0], ['HN-HGJ-051', 0], ['HN-CHUM-030', 0], ['HN-HGJ-060', 0], ['HN-CHUM-013', 0], ['HN-HGJ-053', 0], ['HN-HGJ-013', 0], ['HN-CHUM-021', 0]]\n",
            "[['HN-CHUM-061', 1], ['HN-HGJ-059', 1], ['HN-HGJ-002', 1], ['HN-HGJ-035', 0], ['HN-CHUM-033', 0], ['HN-CHUS-064', 0]]\n",
            "[['HN-CHUM-002', 1], ['HN-CHUM-053', 1], ['HN-HMR-031', 1], ['HN-CHUM-019', 0], ['HN-CHUM-010', 0], ['HN-CHUM-015', 0]]\n"
          ]
        }
      ]
    },
    {
      "cell_type": "markdown",
      "metadata": {
        "id": "kfGjowelNEoF"
      },
      "source": [
        "## Define dataset class\n",
        "This block defines the class on which to build dataset objects"
      ]
    },
    {
      "cell_type": "code",
      "metadata": {
        "id": "VjrRiSmq4mBF"
      },
      "source": [
        "class ImageDataset(Dataset):\n",
        "    def __init__(self, annotations, img_dir, transform=transforms.ToTensor(), target_transform=None):\n",
        "        self.img_labels = annotations\n",
        "        self.img_dir = img_dir\n",
        "        self.transform = transform\n",
        "        self.target_transform = target_transform\n",
        "\n",
        "    def __len__(self):\n",
        "        return len(self.img_labels)\n",
        "\n",
        "    def __getitem__(self, idx):\n",
        "        img_path = os.path.join(self.img_dir, self.img_labels[idx][0]+\".nii\")\n",
        "        image_sitk = sitk.ReadImage(img_path)\n",
        "        image = sitk.GetArrayFromImage(image_sitk)\n",
        "        label = self.img_labels[idx][1]\n",
        "        if self.transform:\n",
        "            image = self.transform(image)\n",
        "        if self.target_transform:\n",
        "            label = self.target_transform(label)\n",
        "        return image, label"
      ],
      "execution_count": 3,
      "outputs": []
    },
    {
      "cell_type": "markdown",
      "metadata": {
        "id": "xiSjndmcNfSA"
      },
      "source": [
        "## Build Datasets\n",
        "This block uses the class and arrays defined previously to build datasets for training, testing and validation."
      ]
    },
    {
      "cell_type": "code",
      "metadata": {
        "id": "ecDoF-cH6xw-"
      },
      "source": [
        "training_data = ImageDataset(outcomes_train, project_folder + \"crop/\")\n",
        "validation_data = ImageDataset(outcomes_validate, project_folder + \"crop/\")\n",
        "test_data = ImageDataset(outcomes_test, project_folder + \"crop/\")"
      ],
      "execution_count": 4,
      "outputs": []
    },
    {
      "cell_type": "markdown",
      "metadata": {
        "id": "v7jDjfvKOCWc"
      },
      "source": [
        "## View binary masks in 3d\n",
        "This block allows you to view a binary mask from the image in 3d by extracting the image from a given dataset. This helps to confirm that the data has not been affected by reading in to pytorch."
      ]
    },
    {
      "cell_type": "code",
      "metadata": {
        "colab": {
          "base_uri": "https://localhost:8080/",
          "height": 265
        },
        "id": "0uideXDzjvdS",
        "outputId": "808c9303-d85e-4dd6-ee49-211a73f48427"
      },
      "source": [
        "# Set which dataset to look at, and the index of the patient to view\n",
        "dataset = training_data\n",
        "index = 2\n",
        "\n",
        "fig = plt.figure()\n",
        "ax = fig.add_subplot(111, projection='3d')\n",
        "\n",
        "array = dataset[index][0].numpy()\n",
        "x,y,z = np.where(array > -1024)\n",
        "ax.scatter(x, y, z, c=z, alpha=1)\n",
        "\n",
        "ax.set_xlim(0,246)\n",
        "ax.set_ylim(0,246)\n",
        "ax.set_zlim(0,246)\n"
      ],
      "execution_count": 5,
      "outputs": [
        {
          "output_type": "execute_result",
          "data": {
            "text/plain": [
              "(0.0, 246.0)"
            ]
          },
          "metadata": {},
          "execution_count": 5
        },
        {
          "output_type": "display_data",
          "data": {
            "image/png": "[encoded data removed]",
            "text/plain": [
              "<Figure size 432x288 with 1 Axes>"
            ]
          },
          "metadata": {
            "needs_background": "light"
          }
        }
      ]
    },
    {
      "cell_type": "markdown",
      "metadata": {
        "id": "p2Chh969QU-u"
      },
      "source": [
        "# Dataloader"
      ]
    },
    {
      "cell_type": "code",
      "metadata": {
        "id": "WEBaWTtLN_A_"
      },
      "source": [
        "train_dataloader = DataLoader(training_data, batch_size=4, shuffle=True)\n",
        "test_dataloader = DataLoader(test_data, batch_size=4, shuffle=True)\n",
        "validation_dataloader = DataLoader(validation_data, batch_size=4, shuffle=True)"
      ],
      "execution_count": 6,
      "outputs": []
    },
    {
      "cell_type": "markdown",
      "metadata": {
        "id": "QF4hpRnHALqS"
      },
      "source": [
        "# Define CNN Class"
      ]
    },
    {
      "cell_type": "code",
      "metadata": {
        "colab": {
          "base_uri": "https://localhost:8080/"
        },
        "id": "nSj3U3DL5NGW",
        "outputId": "0ce45547-ceb7-4838-a3a9-f87e38c69620"
      },
      "source": [
        "class CNN(nn.Module):\n",
        "  def __init__(self):\n",
        "    super(CNN, self).__init__()\n",
        "    out1 = 4\n",
        "    out2 = 4\n",
        "    out3 = 2\n",
        "    self.cnn_layers = nn.Sequential(\n",
        "      # Layer 1\n",
        "      nn.Conv3d(1,out1,4,1,1),\n",
        "      nn.BatchNorm3d(out1),\n",
        "      nn.ReLU(inplace=True),\n",
        "      nn.MaxPool3d(kernel_size=2, stride=2),\n",
        "      # Layer 2\n",
        "      nn.Conv3d(out1, out2, 4, 1, 1),\n",
        "      nn.BatchNorm3d(out2),\n",
        "      nn.ReLU(inplace=True),\n",
        "      nn.MaxPool3d(kernel_size=2, stride=2),\n",
        "      # Layer 3\n",
        "      nn.Conv3d(out2, out3, 4, 1, 1),\n",
        "      nn.BatchNorm3d(out3),\n",
        "      nn.ReLU(inplace=True),\n",
        "      nn.MaxPool3d(kernel_size=2, stride=2),\n",
        "    )\n",
        "    self.linear_layers = nn.Sequential(\n",
        "      nn.Linear(48778, 2)\n",
        "    )\n",
        "  def forward(self, x):\n",
        "    x = self.cnn_layers(x)\n",
        "    x = x.view(x.size(0), -1)\n",
        "    x = self.linear_layers(x)\n",
        "    return x\n",
        "\n",
        "model = CNN().to(device)\n",
        "print(model)\n"
      ],
      "execution_count": 7,
      "outputs": [
        {
          "output_type": "stream",
          "name": "stdout",
          "text": [
            "CNN(\n",
            "  (cnn_layers): Sequential(\n",
            "    (0): Conv3d(1, 4, kernel_size=(4, 4, 4), stride=(1, 1, 1), padding=(1, 1, 1))\n",
            "    (1): BatchNorm3d(4, eps=1e-05, momentum=0.1, affine=True, track_running_stats=True)\n",
            "    (2): ReLU(inplace=True)\n",
            "    (3): MaxPool3d(kernel_size=2, stride=2, padding=0, dilation=1, ceil_mode=False)\n",
            "    (4): Conv3d(4, 4, kernel_size=(4, 4, 4), stride=(1, 1, 1), padding=(1, 1, 1))\n",
            "    (5): BatchNorm3d(4, eps=1e-05, momentum=0.1, affine=True, track_running_stats=True)\n",
            "    (6): ReLU(inplace=True)\n",
            "    (7): MaxPool3d(kernel_size=2, stride=2, padding=0, dilation=1, ceil_mode=False)\n",
            "    (8): Conv3d(4, 2, kernel_size=(4, 4, 4), stride=(1, 1, 1), padding=(1, 1, 1))\n",
            "    (9): BatchNorm3d(2, eps=1e-05, momentum=0.1, affine=True, track_running_stats=True)\n",
            "    (10): ReLU(inplace=True)\n",
            "    (11): MaxPool3d(kernel_size=2, stride=2, padding=0, dilation=1, ceil_mode=False)\n",
            "  )\n",
            "  (linear_layers): Sequential(\n",
            "    (0): Linear(in_features=48778, out_features=2, bias=True)\n",
            "  )\n",
            ")\n"
          ]
        }
      ]
    },
    {
      "cell_type": "markdown",
      "metadata": {
        "id": "imIsJYkHAVEe"
      },
      "source": [
        "# Define Train and Test Loops"
      ]
    },
    {
      "cell_type": "code",
      "metadata": {
        "id": "0RhWjamUGtE_",
        "colab": {
          "base_uri": "https://localhost:8080/"
        },
        "outputId": "98da3b06-096c-45a5-8631-3bf18e7387a6"
      },
      "source": [
        "def train_loop(dataloader, model, loss_fn, optimizer):\n",
        "    size = len(dataloader.dataset)\n",
        "    for batch, (X, y) in enumerate(dataloader):\n",
        "        # Compute prediction and loss\n",
        "        X = reshape(X, (X.shape[0],1,246,246,246))\n",
        "        X = X.float()\n",
        "        X = X.to(device)\n",
        "        y = y.to(device)\n",
        "        pred = model(X)\n",
        "        loss = loss_fn(pred, y)\n",
        "\n",
        "        # Backpropagation\n",
        "        optimizer.zero_grad()\n",
        "        loss.backward()\n",
        "        optimizer.step()\n",
        "\n",
        "        # Print results after each batch        \n",
        "        if batch % 1 == 0:\n",
        "            loss, current = loss.item(), batch * len(X)\n",
        "            print(f\"loss: {loss:>7f}  [{current:>5d}/{size:>5d}]\")\n",
        "    return loss.item()\n",
        "\n",
        "def test_loop(dataloader, model, loss_fn):\n",
        "    size = len(dataloader.dataset)\n",
        "    num_batches = len(dataloader)\n",
        "    test_loss, correct = 0, 0\n",
        "\n",
        "    with torch.no_grad():\n",
        "        for X, y in dataloader:\n",
        "            X = reshape(X, (X.shape[0],1,246,246,246))\n",
        "            X = X.float()\n",
        "            X = X.to(device)\n",
        "            y = y.to(device)\n",
        "            pred = model(X)\n",
        "            test_loss += loss_fn(pred, y).item()\n",
        "            correct += (pred.argmax(1) == y).type(torch.float).sum().item()\n",
        "\n",
        "    test_loss /= num_batches\n",
        "    correct /= size\n",
        "    print(f\"Test Error: \\n Accuracy: {(100*correct):>0.1f}%, Avg loss: {test_loss:>8f} \\n\")\n",
        "    return test_loss\n",
        "\n",
        "learning_rate = 0.001\n",
        "# defining the model\n",
        "model = CNN()\n",
        "# defining the optimizer\n",
        "optimizer = torch.optim.SGD(model.parameters(), lr=learning_rate)\n",
        "# defining the loss function\n",
        "loss_fn = nn.BCELoss()\n",
        "loss_fn = nn.CrossEntropyLoss()\n",
        "\n",
        "model.to(device)\n",
        "loss_fn.to(device)"
      ],
      "execution_count": 42,
      "outputs": [
        {
          "output_type": "execute_result",
          "data": {
            "text/plain": [
              "CrossEntropyLoss()"
            ]
          },
          "metadata": {},
          "execution_count": 42
        }
      ]
    },
    {
      "cell_type": "markdown",
      "metadata": {
        "id": "OSqQYmcaAe-Q"
      },
      "source": [
        "# Run Network"
      ]
    },
    {
      "cell_type": "code",
      "metadata": {
        "colab": {
          "base_uri": "https://localhost:8080/"
        },
        "id": "F23uXlNlG9ZR",
        "outputId": "2c584b22-916a-459b-be6b-4e8c3ce4f889"
      },
      "source": [
        "epochs = 10\n",
        "train_losses = [[],[]]\n",
        "test_losses = [[],[]]\n",
        "for t in range(epochs):\n",
        "    print(f\"Epoch {t+1}\\n-------------------------------\")\n",
        "    train_loss = train_loop(train_dataloader, model, loss_fn, optimizer)\n",
        "    test_loss = test_loop(test_dataloader, model, loss_fn)\n",
        "\n",
        "    train_losses[0].append(t)\n",
        "    train_losses[1].append(train_loss)\n",
        "    test_losses[0].append(t)\n",
        "    test_losses[1].append(test_loss)\n",
        "print(\"Done!\")\n",
        "\n"
      ],
      "execution_count": 40,
      "outputs": [
        {
          "output_type": "stream",
          "name": "stdout",
          "text": [
            "Epoch 1\n",
            "-------------------------------\n",
            "loss: 0.288290  [    0/   26]\n",
            "Test Error: \n",
            " Accuracy: 33.3%, Avg loss: 1.003172 \n",
            "\n",
            "Epoch 2\n",
            "-------------------------------\n",
            "loss: 0.097425  [    0/   26]\n",
            "Test Error: \n",
            " Accuracy: 50.0%, Avg loss: 1.431972 \n",
            "\n",
            "Epoch 3\n",
            "-------------------------------\n",
            "loss: 0.211517  [    0/   26]\n",
            "Test Error: \n",
            " Accuracy: 50.0%, Avg loss: 1.237150 \n",
            "\n",
            "Epoch 4\n",
            "-------------------------------\n",
            "loss: 0.067984  [    0/   26]\n",
            "Test Error: \n",
            " Accuracy: 50.0%, Avg loss: 0.949183 \n",
            "\n",
            "Epoch 5\n",
            "-------------------------------\n",
            "loss: 0.220393  [    0/   26]\n",
            "Test Error: \n",
            " Accuracy: 50.0%, Avg loss: 1.359340 \n",
            "\n",
            "Epoch 6\n",
            "-------------------------------\n",
            "loss: 0.032383  [    0/   26]\n",
            "Test Error: \n",
            " Accuracy: 66.7%, Avg loss: 2.212094 \n",
            "\n",
            "Epoch 7\n",
            "-------------------------------\n",
            "loss: 0.019291  [    0/   26]\n",
            "Test Error: \n",
            " Accuracy: 50.0%, Avg loss: 1.381753 \n",
            "\n",
            "Epoch 8\n",
            "-------------------------------\n",
            "loss: 0.028260  [    0/   26]\n",
            "Test Error: \n",
            " Accuracy: 50.0%, Avg loss: 1.342959 \n",
            "\n",
            "Epoch 9\n",
            "-------------------------------\n",
            "loss: 0.009399  [    0/   26]\n",
            "Test Error: \n",
            " Accuracy: 50.0%, Avg loss: 2.156680 \n",
            "\n",
            "Epoch 10\n",
            "-------------------------------\n",
            "loss: 0.035446  [    0/   26]\n",
            "Test Error: \n",
            " Accuracy: 50.0%, Avg loss: 2.192294 \n",
            "\n",
            "Done!\n"
          ]
        }
      ]
    },
    {
      "cell_type": "markdown",
      "metadata": {
        "id": "2ZBw098GbFou"
      },
      "source": [
        "# Plot Losses"
      ]
    },
    {
      "cell_type": "code",
      "metadata": {
        "colab": {
          "base_uri": "https://localhost:8080/",
          "height": 282
        },
        "id": "fsmncBB6bEip",
        "outputId": "538b38d5-7eb3-42b4-fa3b-ad8387119a08"
      },
      "source": [
        "fig = plt.figure()\n",
        "ax = plt.axes()\n",
        "ax.plot(train_losses[0], train_losses[1], label=\"Train Loss\")\n",
        "ax.plot(test_losses[0], test_losses[1], label=\"Test Loss\")\n",
        "ax.legend()"
      ],
      "execution_count": 41,
      "outputs": [
        {
          "output_type": "execute_result",
          "data": {
            "text/plain": [
              "<matplotlib.legend.Legend at 0x7f98a0aa4b90>"
            ]
          },
          "metadata": {},
          "execution_count": 41
        },
        {
          "output_type": "display_data",
          "data": {
            "image/png": "[encoded data removed]",
            "text/plain": [
              "<Figure size 432x288 with 1 Axes>"
            ]
          },
          "metadata": {
            "needs_background": "light"
          }
        }
      ]
    }
  ]
}