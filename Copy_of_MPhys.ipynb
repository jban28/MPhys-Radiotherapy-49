{
  "nbformat": 4,
  "nbformat_minor": 0,
  "metadata": {
    "colab": {
      "name": "Copy of MPhys.ipynb",
      "provenance": [],
      "collapsed_sections": [],
      "include_colab_link": true
    },
    "kernelspec": {
      "display_name": "Python 3",
      "name": "python3"
    },
    "language_info": {
      "name": "python"
    },
    "accelerator": "GPU"
  },
  "cells": [
    {
      "cell_type": "markdown",
      "metadata": {
        "id": "view-in-github",
        "colab_type": "text"
      },
      "source": [
        "<a href=\"https://colab.research.google.com/github/jban28/MPhys-Radiotherapy-49/blob/main/Copy_of_MPhys.ipynb\" target=\"_parent\"><img src=\"https://colab.research.google.com/assets/colab-badge.svg\" alt=\"Open In Colab\"/></a>"
      ]
    },
    {
      "cell_type": "markdown",
      "metadata": {
        "id": "0E8F_po0K_Wu"
      },
      "source": [
        "## Pre-requisites\n",
        "This block makes the necessary installations and imports for the rest of the code blocks to run, connects to the GPU if one is available, and specifies the location of the folder containing the data. That data folder should contain a sub-folder containing all nifti files, along with a metadata csv file."
      ]
    },
    {
      "cell_type": "code",
      "source": [
        "from google.colab import drive\n",
        "drive.mount('/content/drive')"
      ],
      "metadata": {
        "id": "5AFQEgZc7XUV",
        "outputId": "a4d27fe2-75f2-461e-cde8-661b650c5ea8",
        "colab": {
          "base_uri": "https://localhost:8080/"
        }
      },
      "execution_count": 2,
      "outputs": [
        {
          "output_type": "stream",
          "name": "stdout",
          "text": [
            "Mounted at /content/drive\n"
          ]
        }
      ]
    },
    {
      "cell_type": "code",
      "metadata": {
        "id": "5Egh9uSI77b2",
        "colab": {
          "base_uri": "https://localhost:8080/"
        },
        "outputId": "4f4ef31b-2b3f-4c47-91a8-a4251cd0aa94"
      },
      "source": [
        "!pip install torch torchvision\n",
        "!pip install opencv-contrib-python\n",
        "!pip install scikit-learn\n",
        "!pip install SimpleITK\n",
        "!pip install kornia\n",
        "\n",
        "import numpy as np\n",
        "import random\n",
        "import os\n",
        "import matplotlib.pyplot as plt\n",
        "import SimpleITK as sitk\n",
        "import torch\n",
        "import kornia.augmentation as K\n",
        "import torch.nn.functional as F\n",
        "\n",
        "from mpl_toolkits.mplot3d import Axes3D\n",
        "from torch.nn import Module\n",
        "from torch.nn import Conv3d\n",
        "from torch.nn import Linear\n",
        "from torch.nn import MaxPool2d\n",
        "from torch.nn import ReLU\n",
        "from torch.nn import LogSoftmax\n",
        "from torch.nn import LeakyReLU\n",
        "from torch import flatten\n",
        "from torch import nn\n",
        "from torch import reshape\n",
        "from torch.utils.data import Dataset\n",
        "from torch.utils.data import DataLoader\n",
        "from torchvision import transforms\n",
        "from torchvision import datasets\n",
        "from torch.optim import Adam\n",
        "import torchvision.models as models\n",
        "from torchvision.io import read_image\n",
        "from torchsummary import summary\n",
        "\n",
        "\n",
        "# Connect to GPU is available\n",
        "device = 'cuda' if torch.cuda.is_available() else 'cpu'\n",
        "print(f'Using {device} device')\n",
        "\n",
        "# Specify project folder location\n",
        "#project_folder = \"/content/drive/My Drive/Degree/MPhys/Data/\"\n",
        "project_folder = \"/content/drive/My Drive/Data/\""
      ],
      "execution_count": 3,
      "outputs": [
        {
          "output_type": "stream",
          "name": "stdout",
          "text": [
            "Requirement already satisfied: torch in /usr/local/lib/python3.7/dist-packages (1.10.0+cu111)\n",
            "Requirement already satisfied: torchvision in /usr/local/lib/python3.7/dist-packages (0.11.1+cu111)\n",
            "Requirement already satisfied: typing-extensions in /usr/local/lib/python3.7/dist-packages (from torch) (3.10.0.2)\n",
            "Requirement already satisfied: numpy in /usr/local/lib/python3.7/dist-packages (from torchvision) (1.19.5)\n",
            "Requirement already satisfied: pillow!=8.3.0,>=5.3.0 in /usr/local/lib/python3.7/dist-packages (from torchvision) (7.1.2)\n",
            "Requirement already satisfied: opencv-contrib-python in /usr/local/lib/python3.7/dist-packages (4.1.2.30)\n",
            "Requirement already satisfied: numpy>=1.14.5 in /usr/local/lib/python3.7/dist-packages (from opencv-contrib-python) (1.19.5)\n",
            "Requirement already satisfied: scikit-learn in /usr/local/lib/python3.7/dist-packages (1.0.1)\n",
            "Requirement already satisfied: scipy>=1.1.0 in /usr/local/lib/python3.7/dist-packages (from scikit-learn) (1.4.1)\n",
            "Requirement already satisfied: threadpoolctl>=2.0.0 in /usr/local/lib/python3.7/dist-packages (from scikit-learn) (3.0.0)\n",
            "Requirement already satisfied: joblib>=0.11 in /usr/local/lib/python3.7/dist-packages (from scikit-learn) (1.1.0)\n",
            "Requirement already satisfied: numpy>=1.14.6 in /usr/local/lib/python3.7/dist-packages (from scikit-learn) (1.19.5)\n",
            "Collecting SimpleITK\n",
            "  Downloading SimpleITK-2.1.1-cp37-cp37m-manylinux_2_12_x86_64.manylinux2010_x86_64.whl (48.4 MB)\n",
            "\u001b[K     |████████████████████████████████| 48.4 MB 2.1 MB/s \n",
            "\u001b[?25hInstalling collected packages: SimpleITK\n",
            "Successfully installed SimpleITK-2.1.1\n",
            "Collecting kornia\n",
            "  Downloading kornia-0.6.2-py2.py3-none-any.whl (401 kB)\n",
            "\u001b[K     |████████████████████████████████| 401 kB 13.7 MB/s \n",
            "\u001b[?25hRequirement already satisfied: torch>=1.8.1 in /usr/local/lib/python3.7/dist-packages (from kornia) (1.10.0+cu111)\n",
            "Requirement already satisfied: packaging in /usr/local/lib/python3.7/dist-packages (from kornia) (21.3)\n",
            "Requirement already satisfied: typing-extensions in /usr/local/lib/python3.7/dist-packages (from torch>=1.8.1->kornia) (3.10.0.2)\n",
            "Requirement already satisfied: pyparsing!=3.0.5,>=2.0.2 in /usr/local/lib/python3.7/dist-packages (from packaging->kornia) (3.0.6)\n",
            "Installing collected packages: kornia\n",
            "Successfully installed kornia-0.6.2\n",
            "Using cuda device\n"
          ]
        }
      ]
    },
    {
      "cell_type": "markdown",
      "metadata": {
        "id": "zzE7_7waF7_S"
      },
      "source": [
        "## Define arrays of patient and outcome data\n",
        "This block allows you to specify the criteria which defines the patient outcome as True or False. It then loops through all the patients in the metadata.csv file, searches for their corresponding image in the image folder, and then adds patient and outcome to either the training, testing, or validation array"
      ]
    },
    {
      "cell_type": "code",
      "metadata": {
        "id": "0KFIqmcw83Cl",
        "colab": {
          "base_uri": "https://localhost:8080/"
        },
        "outputId": "e66568d7-809c-40d3-b773-17b22f40ff44"
      },
      "source": [
        "# Open the metadata.csv file, convert to an array, and remove column headers\n",
        "metadata_file = open(project_folder + \"metadata.csv\")\n",
        "metadata = np.loadtxt(metadata_file, dtype=\"str\", delimiter=\",\")\n",
        "metadata = metadata[1:][:]\n",
        "\n",
        "# Set the values which are used to define the outcome for each patient\n",
        "outcome_type = 1 #int(input(\"Select which outcome you are aiming to predict \\n(1=Locoregional, 2=Distant Metastasis, 3=Death):\"))\n",
        "check_day = 3000 #int(input(\"Select the number of days at which to check for event:\"))\n",
        "which_patients = 1 #int(input(\"Do you want to include patients whose last follow up is before the check day? (no = 0, yes = 1):\"))\n",
        "\n",
        "# Create empty arrays to store patient names and outcomes in\n",
        "patient_with_event = []\n",
        "patient_no_event = []\n",
        "outcomes_train = []\n",
        "outcomes_test = []\n",
        "images = []\n",
        "\n",
        "# Loop through each patient and identify whether they are true or false for the specified outcome from above\n",
        "for patient in metadata:\n",
        "  if (patient[(5+outcome_type)] == \"\") and (int(patient[5]) >= check_day):\n",
        "    # Last follow up after check day, no event\n",
        "    outcome = 0\n",
        "  elif (patient[(5+outcome_type)] == \"\") and (int(patient[5]) < check_day) and (which_patients == 0):\n",
        "    # Last follow up before check day, event unknown\n",
        "    continue\n",
        "  elif (patient[(5+outcome_type)] == \"\") and (int(patient[5]) < check_day) and (which_patients == 1):\n",
        "    outcome = 0\n",
        "  elif int(patient[(5+outcome_type)]) <= check_day:\n",
        "    # Event occurred before or on check day\n",
        "    outcome = 1\n",
        "  else:\n",
        "    # Event occurred after check day\n",
        "    outcome = 0\n",
        "  # No Image file found for patient\n",
        "  if not os.path.exists(project_folder + \"crop/\" + patient[0] + \".nii\"):\n",
        "    print(\"No image found for patient \" + patient[0])\n",
        "    continue\n",
        "  \n",
        "  if outcome == 1:\n",
        "    patient_with_event.append([patient[0], outcome])\n",
        "  else:\n",
        "    patient_no_event.append([patient[0], outcome])\n",
        "\n",
        "# # Make arrays the same length\n",
        "# if len(patient_with_event) < len(patient_no_event):\n",
        "#   new_patient_no_event = random.sample(patient_no_event,len(patient_with_event))\n",
        "#   new_patient_with_event = patient_with_event\n",
        "# elif len(patient_with_event) > len(patient_no_event):\n",
        "#   new_patient_with_event = random.sample(patient_with_event, len(patient_no_event))\n",
        "#   new_patient_no_event = patient_no_event\n",
        "# elif len(patient_with_event) == len(patient_no_event):\n",
        "new_patient_no_event = patient_no_event\n",
        "new_patient_with_event = patient_with_event\n",
        "pos_weights = len(new_patient_no_event)/len(new_patient_with_event)\n",
        "# Add patient name, outcome and image to array\n",
        "seventy_percent_event = int(0.7*len(new_patient_with_event))\n",
        "seventy_percent_no_event = int(0.7*len(new_patient_no_event))\n",
        "\n",
        "print('NO event')\n",
        "print(len(new_patient_no_event))\n",
        "print('WITH event')\n",
        "print(len(new_patient_with_event))\n",
        "train_patients_event = random.sample(new_patient_with_event, seventy_percent_event)\n",
        "train_patients_no_event = random.sample(new_patient_no_event, seventy_percent_no_event)\n",
        "\n",
        "def remove(small_array, original_array):\n",
        "  for i in small_array:\n",
        "    original_array.remove(i)\n",
        "    \n",
        "  return original_array\n",
        "\n",
        "new_patients_with_event = remove(train_patients_event, new_patient_with_event)\n",
        "new_patient_no_event = remove(train_patients_no_event, new_patient_no_event)\n",
        "\n",
        "print('NO event')\n",
        "print(len(new_patient_no_event))\n",
        "print('WITH event')\n",
        "print(len(new_patient_with_event))\n",
        "\n",
        "\n",
        "fifty_percent_event = int(0.5*len(new_patient_with_event))\n",
        "fifty_percent_no_event = int(0.5*len(new_patient_no_event))\n",
        "\n",
        "validate_patients_event = random.sample(new_patient_with_event, fifty_percent_event)\n",
        "validate_patients_no_event = random.sample(new_patient_no_event, fifty_percent_no_event)\n",
        "\n",
        "new_patient_with_event = remove(validate_patients_event, new_patient_with_event)\n",
        "new_patient_no_event = remove(validate_patients_no_event, new_patient_no_event)\n",
        "\n",
        "print('NO event')\n",
        "print(len(new_patient_no_event))\n",
        "print('WITH event')\n",
        "print(len(new_patient_with_event))\n",
        "\n",
        "test_patients_event = new_patient_with_event\n",
        "test_patients_no_event = new_patient_no_event\n",
        "\n",
        "outcomes_train = train_patients_event + train_patients_no_event\n",
        "outcomes_validate = validate_patients_event + validate_patients_no_event\n",
        "outcomes_test = test_patients_event + test_patients_no_event\n",
        "\n",
        "print(outcomes_train)\n",
        "print(outcomes_validate)\n",
        "print(outcomes_test)\n",
        "\n"
      ],
      "execution_count": 4,
      "outputs": [
        {
          "output_type": "stream",
          "name": "stdout",
          "text": [
            "No image found for patient HN-CHUM-005\n",
            "No image found for patient HN-CHUM-016\n",
            "No image found for patient HN-CHUM-040\n",
            "No image found for patient HN-CHUM-051\n",
            "No image found for patient HN-CHUS-033\n",
            "No image found for patient HN-CHUS-086\n",
            "No image found for patient HN-CHUS-089\n",
            "No image found for patient HN-CHUS-093\n",
            "No image found for patient HN-CHUS-096\n",
            "No image found for patient HN-CHUS-099\n",
            "No image found for patient HN-CHUS-100\n",
            "No image found for patient HN-CHUS-101\n",
            "No image found for patient HN-HGJ-003\n",
            "No image found for patient HN-HGJ-008\n",
            "No image found for patient HN-HGJ-010\n",
            "No image found for patient HN-HGJ-028\n",
            "No image found for patient HN-HGJ-034\n",
            "No image found for patient HN-HGJ-038\n",
            "No image found for patient HN-HGJ-041\n",
            "No image found for patient HN-HGJ-046\n",
            "No image found for patient HN-HGJ-047\n",
            "No image found for patient HN-HGJ-048\n",
            "No image found for patient HN-HGJ-054\n",
            "No image found for patient HN-HGJ-055\n",
            "No image found for patient HN-HGJ-056\n",
            "No image found for patient HN-HGJ-063\n",
            "No image found for patient HN-HGJ-064\n",
            "No image found for patient HN-HGJ-065\n",
            "No image found for patient HN-HGJ-066\n",
            "No image found for patient HN-HGJ-069\n",
            "No image found for patient HN-HGJ-071\n",
            "No image found for patient HN-HGJ-074\n",
            "No image found for patient HN-HGJ-079\n",
            "No image found for patient HN-HGJ-082\n",
            "No image found for patient HN-HGJ-083\n",
            "No image found for patient HN-HGJ-084\n",
            "No image found for patient HN-HGJ-087\n",
            "No image found for patient HN-HGJ-088\n",
            "No image found for patient HN-HGJ-089\n",
            "No image found for patient HN-HGJ-090\n",
            "No image found for patient HN-HGJ-091\n",
            "No image found for patient HN-HGJ-092\n",
            "No image found for patient HN-HMR-003\n",
            "No image found for patient HN-HMR-004\n",
            "No image found for patient HN-HMR-005\n",
            "No image found for patient HN-HMR-007\n",
            "No image found for patient HN-HMR-009\n",
            "No image found for patient HN-HMR-021\n",
            "No image found for patient HN-HMR-024\n",
            "No image found for patient HN-HMR-027\n",
            "No image found for patient HN-HMR-028\n",
            "No image found for patient HN-HMR-029\n",
            "No image found for patient HN-HMR-032\n",
            "No image found for patient HN-HMR-039\n",
            "NO event\n",
            "120\n",
            "WITH event\n",
            "19\n",
            "NO event\n",
            "36\n",
            "WITH event\n",
            "6\n",
            "NO event\n",
            "18\n",
            "WITH event\n",
            "3\n",
            "[['HN-HMR-031', 1], ['HN-CHUM-063', 1], ['HN-CHUM-061', 1], ['HN-HMR-035', 1], ['HN-CHUM-020', 1], ['HN-HGJ-002', 1], ['HN-HGJ-001', 1], ['HN-HMR-022', 1], ['HN-HGJ-031', 1], ['HN-HGJ-045', 1], ['HN-HGJ-018', 1], ['HN-HMR-001', 1], ['HN-HGJ-078', 1], ['HN-CHUS-005', 0], ['HN-HGJ-022', 0], ['HN-HGJ-058', 0], ['HN-CHUM-001', 0], ['HN-HGJ-027', 0], ['HN-HGJ-040', 0], ['HN-CHUM-042', 0], ['HN-CHUM-029', 0], ['HN-CHUM-022', 0], ['HN-HMR-006', 0], ['HN-HGJ-052', 0], ['HN-CHUM-041', 0], ['HN-CHUM-024', 0], ['HN-CHUM-019', 0], ['HN-CHUM-010', 0], ['HN-HMR-019', 0], ['HN-HMR-040', 0], ['HN-HMR-008', 0], ['HN-CHUM-027', 0], ['HN-HMR-023', 0], ['HN-HGJ-011', 0], ['HN-HMR-010', 0], ['HN-HGJ-049', 0], ['HN-HMR-002', 0], ['HN-CHUM-035', 0], ['HN-CHUM-033', 0], ['HN-HMR-012', 0], ['HN-HGJ-086', 0], ['HN-CHUM-013', 0], ['HN-HGJ-029', 0], ['HN-CHUS-009', 0], ['HN-CHUM-055', 0], ['HN-HMR-036', 0], ['HN-HMR-037', 0], ['HN-CHUM-043', 0], ['HN-CHUM-018', 0], ['HN-HGJ-026', 0], ['HN-HGJ-006', 0], ['HN-CHUM-050', 0], ['HN-HGJ-075', 0], ['HN-HGJ-042', 0], ['HN-HGJ-051', 0], ['HN-HGJ-080', 0], ['HN-CHUM-062', 0], ['HN-HGJ-043', 0], ['HN-HGJ-007', 0], ['HN-HMR-026', 0], ['HN-HGJ-060', 0], ['HN-HGJ-077', 0], ['HN-HGJ-019', 0], ['HN-CHUM-023', 0], ['HN-HGJ-044', 0], ['HN-HMR-030', 0], ['HN-CHUM-017', 0], ['HN-CHUM-012', 0], ['HN-CHUM-065', 0], ['HN-CHUM-026', 0], ['HN-CHUM-039', 0], ['HN-HGJ-067', 0], ['HN-CHUM-038', 0], ['HN-HMR-034', 0], ['HN-HGJ-072', 0], ['HN-HMR-016', 0], ['HN-HGJ-070', 0], ['HN-HMR-025', 0], ['HN-CHUM-057', 0], ['HN-HMR-017', 0], ['HN-HMR-033', 0], ['HN-HGJ-015', 0], ['HN-HMR-018', 0], ['HN-HMR-014', 0], ['HN-HGJ-035', 0], ['HN-HGJ-005', 0], ['HN-CHUM-004', 0], ['HN-HGJ-014', 0], ['HN-HGJ-030', 0], ['HN-CHUM-021', 0], ['HN-CHUM-015', 0], ['HN-CHUM-049', 0], ['HN-HGJ-073', 0], ['HN-HGJ-020', 0], ['HN-HGJ-013', 0], ['HN-HGJ-061', 0], ['HN-CHUM-011', 0]]\n",
            "[['HN-CHUM-053', 1], ['HN-HMR-038', 1], ['HN-CHUM-002', 1], ['HN-CHUM-034', 0], ['HN-HGJ-016', 0], ['HN-HGJ-053', 0], ['HN-HGJ-057', 0], ['HN-HGJ-062', 0], ['HN-CHUM-006', 0], ['HN-CHUS-064', 0], ['HN-CHUS-002', 0], ['HN-HGJ-012', 0], ['HN-CHUM-003', 0], ['HN-HGJ-032', 0], ['HN-HGJ-025', 0], ['HN-HMR-020', 0], ['HN-CHUM-032', 0], ['HN-HMR-013', 0], ['HN-HGJ-085', 0], ['HN-HGJ-009', 0], ['HN-HGJ-036', 0]]\n",
            "[['HN-CHUM-028', 1], ['HN-HGJ-059', 1], ['HN-HMR-015', 1], ['HN-CHUM-007', 0], ['HN-CHUM-008', 0], ['HN-CHUM-009', 0], ['HN-CHUM-014', 0], ['HN-CHUM-025', 0], ['HN-CHUM-030', 0], ['HN-CHUM-031', 0], ['HN-CHUM-036', 0], ['HN-CHUM-037', 0], ['HN-CHUM-052', 0], ['HN-CHUM-056', 0], ['HN-HGJ-004', 0], ['HN-HGJ-024', 0], ['HN-HGJ-037', 0], ['HN-HGJ-050', 0], ['HN-HGJ-076', 0], ['HN-HMR-011', 0], ['HN-HMR-041', 0]]\n"
          ]
        }
      ]
    },
    {
      "cell_type": "markdown",
      "metadata": {
        "id": "kfGjowelNEoF"
      },
      "source": [
        "## Define dataset class\n",
        "This block defines the class on which to build dataset objects"
      ]
    },
    {
      "cell_type": "code",
      "metadata": {
        "id": "VjrRiSmq4mBF"
      },
      "source": [
        "class Normalize(Dataset):\n",
        "    def __init__(self):\n",
        "      pass\n",
        "    def __call__(self, vol):\n",
        "        vol = (vol-vol.mean())/vol.std()\n",
        "        return(vol) \n",
        "\n",
        "\n",
        "\n",
        "\n",
        "  # def __init__(self, ):\n",
        "  #   self.transform = transform\n",
        "\n",
        "\n",
        "  # def __getitem__(self,idx):\n",
        "  #   if self.transform:\n",
        "  #     mean, std = torch.mean(Dataset), torch.std(Dataset)\n",
        "  #     image = self.transform(image)\n",
        "data_transform = transforms.Compose([\n",
        "        transforms.ToTensor(),\n",
        "        Normalize()\n",
        "    ])\n",
        "\n",
        "\n",
        "class ImageDataset(Dataset):\n",
        "    def __init__(self, annotations, img_dir, transform= data_transform, target_transform=None):\n",
        "        self.img_labels = annotations\n",
        "        self.img_dir = img_dir\n",
        "        self.transform = transform\n",
        "        self.target_transform = target_transform\n",
        "\n",
        "    def __len__(self):\n",
        "        return len(self.img_labels)\n",
        "\n",
        "    def __getitem__(self, idx):\n",
        "        img_path = os.path.join(self.img_dir, self.img_labels[idx][0]+\".nii\")\n",
        "        image_sitk = sitk.ReadImage(img_path)\n",
        "        image = sitk.GetArrayFromImage(image_sitk)\n",
        "        label = self.img_labels[idx][1]\n",
        "        #augmented = self.transform(image)    # new line\n",
        "        # aug = transforms(image)\n",
        "        if self.transform:\n",
        "          ##augmented = self.transform(image)\n",
        "            # aug = K.AugmentationSequential(\n",
        "            #     K.RandomAffine(5, p=1.0),\n",
        "            #     K.RandomAffine(360, scale=[0.8,1.2], p=0),\n",
        "            #     K.RandomHorizontalFlip(p=0),\n",
        "            #   # K.Normalize()\n",
        "            #     data_keys=[\"input\", \"bbox\", \"keypoints\", \"mask\"],\n",
        "            #     return_transform=False,\n",
        "            #     same_on_batch=False,\n",
        "            # )\n",
        "            # out_tensors = aug(img_tensor, bbox, keypoints, mask)  #new line\n",
        "          #out_tensors = augmented(image)\n",
        "          ##out_tensors = augmented.values()  #new line\n",
        "          image = self.transform(image)\n",
        "            #image = self.transform(image) # only original line in if statement\n",
        "            \n",
        "        if self.target_transform:\n",
        "          label = self.target_transform(label)\n",
        "        return image, label\n",
        "        #return torch.tensor(image, dtype=torch.float), label"
      ],
      "execution_count": 5,
      "outputs": []
    },
    {
      "cell_type": "markdown",
      "metadata": {
        "id": "xiSjndmcNfSA"
      },
      "source": [
        "## Build Datasets\n",
        "This block uses the class and arrays defined previously to build datasets for training, testing and validation."
      ]
    },
    {
      "cell_type": "code",
      "metadata": {
        "id": "ecDoF-cH6xw-",
        "colab": {
          "base_uri": "https://localhost:8080/"
        },
        "outputId": "569fd172-a731-42ba-f7a8-8d8ea781e6e6"
      },
      "source": [
        "#mean = #mean of pixel value\n",
        "#standard_dev = standard deviation of pixel value\n",
        "# aug = K.AugmentationSequential(\n",
        "#     #K.RandomAffine(5, p=1.0),\n",
        "#     K.RandomAffine(5, scale=[0.8,1.2], p=1),\n",
        "#     K.RandomHorizontalFlip(p=0),\n",
        "#    # K.Normalize()\n",
        "#     data_keys=[\"input\"],\n",
        "#     return_transform=False,\n",
        "#     same_on_batch=False,\n",
        "# )\n",
        "\n",
        "\n",
        "training_data = ImageDataset(outcomes_train, project_folder + \"crop/\")\n",
        "validation_data = ImageDataset(outcomes_validate, project_folder + \"crop/\")\n",
        "test_data = ImageDataset(outcomes_test, project_folder + \"crop/\")\n",
        "print(len(training_data))"
      ],
      "execution_count": 6,
      "outputs": [
        {
          "output_type": "stream",
          "name": "stdout",
          "text": [
            "97\n"
          ]
        }
      ]
    },
    {
      "cell_type": "markdown",
      "metadata": {
        "id": "v7jDjfvKOCWc"
      },
      "source": [
        "## View binary masks in 3d\n",
        "This block allows you to view a binary mask from the image in 3d by extracting the image from a given dataset. This helps to confirm that the data has not been affected by reading in to pytorch."
      ]
    },
    {
      "cell_type": "code",
      "metadata": {
        "id": "0uideXDzjvdS",
        "colab": {
          "base_uri": "https://localhost:8080/",
          "height": 283
        },
        "outputId": "7e9c29d9-1fc6-4bc6-a596-9f48e4823f33"
      },
      "source": [
        "# Set which dataset to look at, and the index of the patient to view\n",
        "dataset = training_data\n",
        "index = 9\n",
        "print('HN-CHUM-063, 1')\n",
        "fig = plt.figure()\n",
        "ax = fig.add_subplot(111, projection='3d')\n",
        "\n",
        "array = dataset[index][0].numpy()\n",
        "x,y,z = np.where(array >= 0)\n",
        "ax.scatter(x, y, z, c=z, alpha=1)\n",
        "\n",
        "ax.set_xlim(0,246)\n",
        "ax.set_ylim(0,246)\n",
        "ax.set_zlim(0,246)\n"
      ],
      "execution_count": 7,
      "outputs": [
        {
          "output_type": "stream",
          "name": "stdout",
          "text": [
            "HN-CHUM-063, 1\n"
          ]
        },
        {
          "output_type": "execute_result",
          "data": {
            "text/plain": [
              "(0.0, 246.0)"
            ]
          },
          "metadata": {},
          "execution_count": 7
        },
        {
          "output_type": "display_data",
          "data": {
            "image/png": "[encoded data removed]",
            "text/plain": [
              "<Figure size 432x288 with 1 Axes>"
            ]
          },
          "metadata": {
            "needs_background": "light"
          }
        }
      ]
    },
    {
      "cell_type": "markdown",
      "metadata": {
        "id": "p2Chh969QU-u"
      },
      "source": [
        "# Dataloader"
      ]
    },
    {
      "cell_type": "code",
      "metadata": {
        "id": "WEBaWTtLN_A_"
      },
      "source": [
        "train_dataloader = DataLoader(training_data, batch_size=2, shuffle=True)\n",
        "validate_dataloader = DataLoader(validation_data, batch_size=2, shuffle=True)\n",
        "test_dataloader = DataLoader(test_data, batch_size=2, shuffle=True)\n"
      ],
      "execution_count": 8,
      "outputs": []
    },
    {
      "cell_type": "markdown",
      "metadata": {
        "id": "QF4hpRnHALqS"
      },
      "source": [
        "# Define CNN Class"
      ]
    },
    {
      "cell_type": "code",
      "metadata": {
        "id": "nSj3U3DL5NGW",
        "colab": {
          "base_uri": "https://localhost:8080/"
        },
        "outputId": "461d8448-36d4-4d9c-bbb4-18e7f4619be2"
      },
      "source": [
        "class CNN(nn.Module):\n",
        "  def __init__(self):\n",
        "    super(CNN, self).__init__()\n",
        "    out1 = 4\n",
        "    out2 = 4\n",
        "    out3 = 2\n",
        "    self.cnn_layers = nn.Sequential(\n",
        "      # Layer 1\n",
        "      nn.Conv3d(1,out1,4,1,1),\n",
        "      nn.BatchNorm3d(out1),\n",
        "      #nn.ReLU(inplace=True),\n",
        "      nn.LeakyReLU(inplace=True),\n",
        "      nn.MaxPool3d(kernel_size=2, stride=2),\n",
        "      # Layer 2\n",
        "      nn.Conv3d(out1, out2, 4, 1, 1),\n",
        "      nn.BatchNorm3d(out2),\n",
        "      #nn.ReLU(inplace=True),\n",
        "      nn.LeakyReLU(inplace=True),\n",
        "      nn.MaxPool3d(kernel_size=2, stride=2),\n",
        "      # Layer 3\n",
        "      nn.Conv3d(out2, out3, 4, 1, 1),\n",
        "      nn.BatchNorm3d(out3),\n",
        "      #nn.ReLU(inplace=True),\n",
        "      nn.LeakyReLU(inplace=True),\n",
        "      nn.MaxPool3d(kernel_size=2, stride=2),\n",
        "    )\n",
        "    self.linear_layers = nn.Sequential(\n",
        "      nn.Linear(48778, 2)\n",
        "    )\n",
        "  def forward(self, x):\n",
        "    x = self.cnn_layers(x)\n",
        "    x = x.view(x.size(0), -1)\n",
        "    x = self.linear_layers(x)\n",
        "    return x\n",
        "\n",
        "model = CNN().to(device)\n",
        "print(model)\n"
      ],
      "execution_count": 9,
      "outputs": [
        {
          "output_type": "stream",
          "name": "stdout",
          "text": [
            "CNN(\n",
            "  (cnn_layers): Sequential(\n",
            "    (0): Conv3d(1, 4, kernel_size=(4, 4, 4), stride=(1, 1, 1), padding=(1, 1, 1))\n",
            "    (1): BatchNorm3d(4, eps=1e-05, momentum=0.1, affine=True, track_running_stats=True)\n",
            "    (2): LeakyReLU(negative_slope=0.01, inplace=True)\n",
            "    (3): MaxPool3d(kernel_size=2, stride=2, padding=0, dilation=1, ceil_mode=False)\n",
            "    (4): Conv3d(4, 4, kernel_size=(4, 4, 4), stride=(1, 1, 1), padding=(1, 1, 1))\n",
            "    (5): BatchNorm3d(4, eps=1e-05, momentum=0.1, affine=True, track_running_stats=True)\n",
            "    (6): LeakyReLU(negative_slope=0.01, inplace=True)\n",
            "    (7): MaxPool3d(kernel_size=2, stride=2, padding=0, dilation=1, ceil_mode=False)\n",
            "    (8): Conv3d(4, 2, kernel_size=(4, 4, 4), stride=(1, 1, 1), padding=(1, 1, 1))\n",
            "    (9): BatchNorm3d(2, eps=1e-05, momentum=0.1, affine=True, track_running_stats=True)\n",
            "    (10): LeakyReLU(negative_slope=0.01, inplace=True)\n",
            "    (11): MaxPool3d(kernel_size=2, stride=2, padding=0, dilation=1, ceil_mode=False)\n",
            "  )\n",
            "  (linear_layers): Sequential(\n",
            "    (0): Linear(in_features=48778, out_features=2, bias=True)\n",
            "  )\n",
            ")\n"
          ]
        }
      ]
    },
    {
      "cell_type": "markdown",
      "metadata": {
        "id": "imIsJYkHAVEe"
      },
      "source": [
        "# Define Train and Test Loops"
      ]
    },
    {
      "cell_type": "code",
      "metadata": {
        "id": "0RhWjamUGtE_",
        "colab": {
          "base_uri": "https://localhost:8080/"
        },
        "outputId": "1d292ef2-1ee9-4255-aee2-20ca85d13b44"
      },
      "source": [
        "def train_loop(dataloader, model, loss_fn, optimizer):\n",
        "    size = len(dataloader.dataset)\n",
        "    for batch, (X, y) in enumerate(dataloader):\n",
        "        # Compute prediction and loss\n",
        "        X = reshape(X, (X.shape[0],1,246,246,246))\n",
        "        X = X.float()\n",
        "        X = X.to(device)\n",
        "        y = y.to(device)\n",
        "        #y = reshape(y, (y.shape[0],1))\n",
        "        hot_y = torch.empty((X.shape[0],2)).to(device)\n",
        "        for index in range(len(y)):\n",
        "          if y[index] == 0:\n",
        "            hot_y[index,0] = 1\n",
        "            hot_y[index,1] = 0\n",
        "          elif y[index] == 1:\n",
        "            hot_y[index,0] = 0\n",
        "            hot_y[index,1] = 1\n",
        "      \n",
        "        print(hot_y)\n",
        "        pred = model(X)\n",
        "        torch.squeeze(pred)\n",
        "        loss = loss_fn(pred, hot_y.float())\n",
        "\n",
        "        # Backpropagation\n",
        "        optimizer.zero_grad()\n",
        "        loss.backward()\n",
        "        optimizer.step()\n",
        "\n",
        "        # Print results after each batch        \n",
        "        if batch % 1 == 0:\n",
        "            loss, current = loss.item(), batch * len(X)\n",
        "            print(f\"loss: {loss:>7f}  [{current:>5d}/{size:>5d}]\")\n",
        "    return loss\n",
        "\n",
        "def validate_loop(dataloader, model, loss_fn):\n",
        "    size = len(dataloader.dataset)\n",
        "    num_batches = len(dataloader)\n",
        "    validate_loss, correct = 0, 0\n",
        "\n",
        "    with torch.no_grad():\n",
        "        for X, y in dataloader:\n",
        "            X = reshape(X, (X.shape[0],1,246,246,246))\n",
        "            X = X.float()\n",
        "            X = X.to(device)\n",
        "            y = y.to(device)\n",
        "            #y = reshape(y, (y.shape[0],1))\n",
        "            hot_y = torch.empty((X.shape[0],2)).to(device)\n",
        "            for index in range(len(y)):\n",
        "              if y[index] == 0:\n",
        "                hot_y[index,0] = 1\n",
        "                hot_y[index,1] = 0\n",
        "              elif y[index] == 1:\n",
        "                hot_y[index,0] = 0\n",
        "                hot_y[index,1] = 1\n",
        "            \n",
        "            pred = model(X)\n",
        "            # print(f'pred: {pred}')\n",
        "            # print(f'hot_y: {hot_y}')\n",
        "            _,predictions = torch.max(pred , 1)\n",
        "            _,targets = torch.max(hot_y, 1)\n",
        "            # print(f'predictions: {predictions}')\n",
        "            # print(f'targets: {targets}')\n",
        "            print(f'Correct this batch = {(predictions == targets).sum().item()}')\n",
        "\n",
        "            torch.squeeze(pred)\n",
        "            validate_loss += loss_fn(pred, hot_y.float()).item()\n",
        "            # correct += (pred.argmax(1) == hot_y).type(torch.float).sum().item()\n",
        "            correct += (predictions == targets).sum().item()\n",
        "\n",
        "    validate_loss /= num_batches\n",
        "    correct /= size\n",
        "    accuracy = 100*correct\n",
        "    print(f\"Validate Error: \\n Accuracy: {(100*correct):>0.1f}%, Avg loss: {validate_loss:>8f} \\n\")\n",
        "    return validate_loss, accuracy\n",
        "\n",
        "learning_rate = 0.001\n",
        "# defining the model\n",
        "model = CNN()\n",
        "# defining the optimizer\n",
        "optimizer = torch.optim.SGD(model.parameters(), lr=learning_rate)\n",
        "# defining the loss function\n",
        "pos_weights = torch.tensor(pos_weights)\n",
        "loss_fn = nn.BCEWithLogitsLoss(pos_weights)\n",
        "# loss_fn = nn.CrossEntropyLoss()\n",
        "\n",
        "model.to(device)\n",
        "loss_fn.to(device)\n",
        "\n",
        "summary(model=model, input_size=(1, 246, 246, 246), batch_size=2)"
      ],
      "execution_count": 12,
      "outputs": [
        {
          "output_type": "stream",
          "name": "stderr",
          "text": [
            "/usr/local/lib/python3.7/dist-packages/ipykernel_launcher.py:82: UserWarning: To copy construct from a tensor, it is recommended to use sourceTensor.clone().detach() or sourceTensor.clone().detach().requires_grad_(True), rather than torch.tensor(sourceTensor).\n"
          ]
        },
        {
          "output_type": "stream",
          "name": "stdout",
          "text": [
            "----------------------------------------------------------------\n",
            "        Layer (type)               Output Shape         Param #\n",
            "================================================================\n",
            "            Conv3d-1      [2, 4, 245, 245, 245]             260\n",
            "       BatchNorm3d-2      [2, 4, 245, 245, 245]               8\n",
            "         LeakyReLU-3      [2, 4, 245, 245, 245]               0\n",
            "         MaxPool3d-4      [2, 4, 122, 122, 122]               0\n",
            "            Conv3d-5      [2, 4, 121, 121, 121]           1,028\n",
            "       BatchNorm3d-6      [2, 4, 121, 121, 121]               8\n",
            "         LeakyReLU-7      [2, 4, 121, 121, 121]               0\n",
            "         MaxPool3d-8         [2, 4, 60, 60, 60]               0\n",
            "            Conv3d-9         [2, 2, 59, 59, 59]             514\n",
            "      BatchNorm3d-10         [2, 2, 59, 59, 59]               4\n",
            "        LeakyReLU-11         [2, 2, 59, 59, 59]               0\n",
            "        MaxPool3d-12         [2, 2, 29, 29, 29]               0\n",
            "           Linear-13                     [2, 2]          97,558\n",
            "================================================================\n",
            "Total params: 99,380\n",
            "Trainable params: 99,380\n",
            "Non-trainable params: 0\n",
            "----------------------------------------------------------------\n",
            "Input size (MB): 113.58\n",
            "Forward/backward pass size (MB): 3160.72\n",
            "Params size (MB): 0.38\n",
            "Estimated Total Size (MB): 3274.67\n",
            "----------------------------------------------------------------\n"
          ]
        }
      ]
    },
    {
      "cell_type": "markdown",
      "metadata": {
        "id": "OSqQYmcaAe-Q"
      },
      "source": [
        "# Run Network"
      ]
    },
    {
      "cell_type": "code",
      "metadata": {
        "id": "F23uXlNlG9ZR",
        "colab": {
          "base_uri": "https://localhost:8080/",
          "height": 1000
        },
        "outputId": "6856ee02-da14-4b23-c3b3-331b2924e2b1"
      },
      "source": [
        "epochs = 10\n",
        "train_losses = [[],[]]\n",
        "validate_losses = [[],[]]\n",
        "train_accuracies = [[],[]]\n",
        "validate_accuracies = [[],[]]\n",
        "for t in range(epochs):\n",
        "    print(f\"Epoch {t+1}\\n-------------------------------\")\n",
        "    train_loss = train_loop(train_dataloader, model, loss_fn, optimizer)\n",
        "    validate_loss = validate_loop(validate_dataloader, model, loss_fn)\n",
        "\n",
        "    train_losses[0].append(t)\n",
        "    train_losses[1].append(train_loss)\n",
        "    validate_losses[0].append(t)\n",
        "    validate_losses[1].append(validate_loss[0])\n",
        "    validate_accuracies[0].append(t)\n",
        "    validate_accuracies[1].append(validate_loss[1])\n",
        "print(\"Done!\")\n",
        "\n"
      ],
      "execution_count": 13,
      "outputs": [
        {
          "output_type": "stream",
          "name": "stdout",
          "text": [
            "Epoch 1\n",
            "-------------------------------\n",
            "tensor([[1., 0.],\n",
            "        [1., 0.]], device='cuda:0')\n",
            "loss: 3.966422  [    0/   97]\n",
            "tensor([[0., 1.],\n",
            "        [1., 0.]], device='cuda:0')\n",
            "loss: 70.265495  [    2/   97]\n",
            "tensor([[1., 0.],\n",
            "        [1., 0.]], device='cuda:0')\n",
            "loss: 3.883660  [    4/   97]\n",
            "tensor([[1., 0.],\n",
            "        [1., 0.]], device='cuda:0')\n",
            "loss: 3.207287  [    6/   97]\n",
            "tensor([[1., 0.],\n",
            "        [0., 1.]], device='cuda:0')\n",
            "loss: 4.963812  [    8/   97]\n",
            "tensor([[0., 1.],\n",
            "        [0., 1.]], device='cuda:0')\n",
            "loss: 7.167689  [   10/   97]\n",
            "tensor([[1., 0.],\n",
            "        [1., 0.]], device='cuda:0')\n",
            "loss: 4.312267  [   12/   97]\n",
            "tensor([[1., 0.],\n",
            "        [1., 0.]], device='cuda:0')\n",
            "loss: 3.429801  [   14/   97]\n",
            "tensor([[0., 1.],\n",
            "        [0., 1.]], device='cuda:0')\n",
            "loss: 5.881820  [   16/   97]\n",
            "tensor([[1., 0.],\n",
            "        [1., 0.]], device='cuda:0')\n",
            "loss: 3.618418  [   18/   97]\n",
            "tensor([[1., 0.],\n",
            "        [1., 0.]], device='cuda:0')\n",
            "loss: 3.232634  [   20/   97]\n",
            "tensor([[0., 1.],\n",
            "        [1., 0.]], device='cuda:0')\n",
            "loss: 4.825983  [   22/   97]\n",
            "tensor([[1., 0.],\n",
            "        [1., 0.]], device='cuda:0')\n",
            "loss: 3.085497  [   24/   97]\n",
            "tensor([[1., 0.],\n",
            "        [0., 1.]], device='cuda:0')\n",
            "loss: 4.851715  [   26/   97]\n",
            "tensor([[0., 1.],\n",
            "        [1., 0.]], device='cuda:0')\n",
            "loss: 5.008221  [   28/   97]\n",
            "tensor([[1., 0.],\n",
            "        [1., 0.]], device='cuda:0')\n",
            "loss: 3.492973  [   30/   97]\n",
            "tensor([[1., 0.],\n",
            "        [0., 1.]], device='cuda:0')\n",
            "loss: 4.415009  [   32/   97]\n",
            "tensor([[1., 0.],\n",
            "        [1., 0.]], device='cuda:0')\n",
            "loss: 2.148372  [   34/   97]\n",
            "tensor([[1., 0.],\n",
            "        [1., 0.]], device='cuda:0')\n",
            "loss: 2.349302  [   36/   97]\n",
            "tensor([[1., 0.],\n",
            "        [1., 0.]], device='cuda:0')\n",
            "loss: 1.496781  [   38/   97]\n",
            "tensor([[1., 0.],\n",
            "        [1., 0.]], device='cuda:0')\n",
            "loss: 1.129674  [   40/   97]\n",
            "tensor([[1., 0.],\n",
            "        [1., 0.]], device='cuda:0')\n",
            "loss: 0.326814  [   42/   97]\n",
            "tensor([[1., 0.],\n",
            "        [0., 1.]], device='cuda:0')\n",
            "loss: 9.625181  [   44/   97]\n",
            "tensor([[1., 0.],\n",
            "        [1., 0.]], device='cuda:0')\n",
            "loss: 1.426889  [   46/   97]\n",
            "tensor([[1., 0.],\n",
            "        [1., 0.]], device='cuda:0')\n",
            "loss: 0.971710  [   48/   97]\n",
            "tensor([[1., 0.],\n",
            "        [1., 0.]], device='cuda:0')\n",
            "loss: 0.685775  [   50/   97]\n",
            "tensor([[1., 0.],\n",
            "        [1., 0.]], device='cuda:0')\n",
            "loss: 0.546427  [   52/   97]\n",
            "tensor([[1., 0.],\n",
            "        [1., 0.]], device='cuda:0')\n",
            "loss: 0.666094  [   54/   97]\n",
            "tensor([[1., 0.],\n",
            "        [1., 0.]], device='cuda:0')\n",
            "loss: 0.314479  [   56/   97]\n",
            "tensor([[1., 0.],\n",
            "        [1., 0.]], device='cuda:0')\n",
            "loss: 0.331358  [   58/   97]\n",
            "tensor([[1., 0.],\n",
            "        [1., 0.]], device='cuda:0')\n",
            "loss: 0.575754  [   60/   97]\n",
            "tensor([[1., 0.],\n",
            "        [1., 0.]], device='cuda:0')\n",
            "loss: 0.084894  [   62/   97]\n",
            "tensor([[0., 1.],\n",
            "        [1., 0.]], device='cuda:0')\n",
            "loss: 11.743402  [   64/   97]\n",
            "tensor([[1., 0.],\n",
            "        [1., 0.]], device='cuda:0')\n",
            "loss: 1.383712  [   66/   97]\n",
            "tensor([[1., 0.],\n",
            "        [1., 0.]], device='cuda:0')\n",
            "loss: 1.297378  [   68/   97]\n",
            "tensor([[1., 0.],\n",
            "        [1., 0.]], device='cuda:0')\n",
            "loss: 0.389995  [   70/   97]\n",
            "tensor([[1., 0.],\n",
            "        [1., 0.]], device='cuda:0')\n",
            "loss: 0.939649  [   72/   97]\n",
            "tensor([[1., 0.],\n",
            "        [1., 0.]], device='cuda:0')\n",
            "loss: 0.213598  [   74/   97]\n",
            "tensor([[0., 1.],\n",
            "        [1., 0.]], device='cuda:0')\n",
            "loss: 10.472899  [   76/   97]\n",
            "tensor([[1., 0.],\n",
            "        [1., 0.]], device='cuda:0')\n",
            "loss: 1.093702  [   78/   97]\n",
            "tensor([[1., 0.],\n",
            "        [1., 0.]], device='cuda:0')\n",
            "loss: 0.431234  [   80/   97]\n",
            "tensor([[1., 0.],\n",
            "        [1., 0.]], device='cuda:0')\n",
            "loss: 0.758963  [   82/   97]\n",
            "tensor([[1., 0.],\n",
            "        [1., 0.]], device='cuda:0')\n",
            "loss: 0.619713  [   84/   97]\n",
            "tensor([[1., 0.],\n",
            "        [1., 0.]], device='cuda:0')\n",
            "loss: 0.422974  [   86/   97]\n",
            "tensor([[1., 0.],\n",
            "        [1., 0.]], device='cuda:0')\n",
            "loss: 0.412601  [   88/   97]\n",
            "tensor([[1., 0.],\n",
            "        [1., 0.]], device='cuda:0')\n",
            "loss: 0.299611  [   90/   97]\n",
            "tensor([[1., 0.],\n",
            "        [1., 0.]], device='cuda:0')\n",
            "loss: 0.252038  [   92/   97]\n",
            "tensor([[1., 0.],\n",
            "        [1., 0.]], device='cuda:0')\n",
            "loss: 0.184628  [   94/   97]\n",
            "tensor([[1., 0.]], device='cuda:0')\n",
            "loss: 0.056946  [   48/   97]\n",
            "Correct this batch = 2\n",
            "Correct this batch = 1\n",
            "Correct this batch = 2\n",
            "Correct this batch = 2\n",
            "Correct this batch = 1\n",
            "Correct this batch = 2\n",
            "Correct this batch = 1\n",
            "Correct this batch = 2\n",
            "Correct this batch = 2\n",
            "Correct this batch = 2\n",
            "Correct this batch = 1\n",
            "Validate Error: \n",
            " Accuracy: 85.7%, Avg loss: 3.490175 \n",
            "\n",
            "Epoch 2\n",
            "-------------------------------\n",
            "tensor([[0., 1.],\n",
            "        [1., 0.]], device='cuda:0')\n",
            "loss: 12.800451  [    0/   97]\n",
            "tensor([[1., 0.],\n",
            "        [1., 0.]], device='cuda:0')\n",
            "loss: 0.827120  [    2/   97]\n",
            "tensor([[1., 0.],\n",
            "        [1., 0.]], device='cuda:0')\n",
            "loss: 0.666747  [    4/   97]\n",
            "tensor([[1., 0.],\n",
            "        [1., 0.]], device='cuda:0')\n",
            "loss: 0.405650  [    6/   97]\n",
            "tensor([[1., 0.],\n",
            "        [1., 0.]], device='cuda:0')\n",
            "loss: 0.518129  [    8/   97]\n",
            "tensor([[1., 0.],\n",
            "        [1., 0.]], device='cuda:0')\n",
            "loss: 0.552734  [   10/   97]\n",
            "tensor([[0., 1.],\n",
            "        [0., 1.]], device='cuda:0')\n",
            "loss: 20.519432  [   12/   97]\n",
            "tensor([[0., 1.],\n",
            "        [1., 0.]], device='cuda:0')\n",
            "loss: 4.382775  [   14/   97]\n",
            "tensor([[1., 0.],\n",
            "        [1., 0.]], device='cuda:0')\n",
            "loss: 3.394150  [   16/   97]\n",
            "tensor([[1., 0.],\n",
            "        [1., 0.]], device='cuda:0')\n",
            "loss: 2.495979  [   18/   97]\n",
            "tensor([[1., 0.],\n",
            "        [0., 1.]], device='cuda:0')\n",
            "loss: 5.740458  [   20/   97]\n",
            "tensor([[1., 0.],\n",
            "        [1., 0.]], device='cuda:0')\n",
            "loss: 3.663539  [   22/   97]\n",
            "tensor([[1., 0.],\n",
            "        [1., 0.]], device='cuda:0')\n",
            "loss: 2.447652  [   24/   97]\n",
            "tensor([[1., 0.],\n",
            "        [1., 0.]], device='cuda:0')\n",
            "loss: 2.056667  [   26/   97]\n",
            "tensor([[1., 0.],\n",
            "        [0., 1.]], device='cuda:0')\n",
            "loss: 5.546077  [   28/   97]\n",
            "tensor([[1., 0.],\n",
            "        [1., 0.]], device='cuda:0')\n",
            "loss: 2.451513  [   30/   97]\n",
            "tensor([[1., 0.],\n",
            "        [1., 0.]], device='cuda:0')\n",
            "loss: 1.406498  [   32/   97]\n",
            "tensor([[1., 0.],\n",
            "        [1., 0.]], device='cuda:0')\n",
            "loss: 1.100230  [   34/   97]\n",
            "tensor([[1., 0.],\n",
            "        [1., 0.]], device='cuda:0')\n",
            "loss: 1.245197  [   36/   97]\n",
            "tensor([[0., 1.],\n",
            "        [1., 0.]], device='cuda:0')\n",
            "loss: 7.175876  [   38/   97]\n",
            "tensor([[1., 0.],\n",
            "        [0., 1.]], device='cuda:0')\n",
            "loss: 6.237208  [   40/   97]\n",
            "tensor([[1., 0.],\n",
            "        [1., 0.]], device='cuda:0')\n",
            "loss: 2.309435  [   42/   97]\n",
            "tensor([[1., 0.],\n",
            "        [1., 0.]], device='cuda:0')\n",
            "loss: 1.383708  [   44/   97]\n",
            "tensor([[1., 0.],\n",
            "        [1., 0.]], device='cuda:0')\n",
            "loss: 0.849769  [   46/   97]\n",
            "tensor([[1., 0.],\n",
            "        [1., 0.]], device='cuda:0')\n",
            "loss: 0.776680  [   48/   97]\n",
            "tensor([[1., 0.],\n",
            "        [1., 0.]], device='cuda:0')\n",
            "loss: 0.443087  [   50/   97]\n",
            "tensor([[1., 0.],\n",
            "        [0., 1.]], device='cuda:0')\n",
            "loss: 6.955347  [   52/   97]\n",
            "tensor([[1., 0.],\n",
            "        [1., 0.]], device='cuda:0')\n",
            "loss: 1.269351  [   54/   97]\n",
            "tensor([[1., 0.],\n",
            "        [1., 0.]], device='cuda:0')\n",
            "loss: 0.665192  [   56/   97]\n",
            "tensor([[1., 0.],\n",
            "        [1., 0.]], device='cuda:0')\n",
            "loss: 0.882456  [   58/   97]\n",
            "tensor([[1., 0.],\n",
            "        [0., 1.]], device='cuda:0')\n",
            "loss: 8.125887  [   60/   97]\n",
            "tensor([[1., 0.],\n",
            "        [1., 0.]], device='cuda:0')\n",
            "loss: 1.292206  [   62/   97]\n",
            "tensor([[1., 0.],\n",
            "        [1., 0.]], device='cuda:0')\n",
            "loss: 0.833109  [   64/   97]\n",
            "tensor([[1., 0.],\n",
            "        [1., 0.]], device='cuda:0')\n",
            "loss: 0.923961  [   66/   97]\n",
            "tensor([[1., 0.],\n",
            "        [1., 0.]], device='cuda:0')\n",
            "loss: 0.420668  [   68/   97]\n",
            "tensor([[1., 0.],\n",
            "        [1., 0.]], device='cuda:0')\n",
            "loss: 0.394277  [   70/   97]\n",
            "tensor([[1., 0.],\n",
            "        [1., 0.]], device='cuda:0')\n",
            "loss: 0.268606  [   72/   97]\n",
            "tensor([[0., 1.],\n",
            "        [1., 0.]], device='cuda:0')\n",
            "loss: 10.158227  [   74/   97]\n",
            "tensor([[1., 0.],\n",
            "        [1., 0.]], device='cuda:0')\n",
            "loss: 1.301531  [   76/   97]\n",
            "tensor([[1., 0.],\n",
            "        [1., 0.]], device='cuda:0')\n",
            "loss: 0.942544  [   78/   97]\n",
            "tensor([[1., 0.],\n",
            "        [1., 0.]], device='cuda:0')\n",
            "loss: 0.532987  [   80/   97]\n",
            "tensor([[1., 0.],\n",
            "        [1., 0.]], device='cuda:0')\n",
            "loss: 0.405614  [   82/   97]\n",
            "tensor([[1., 0.],\n",
            "        [1., 0.]], device='cuda:0')\n",
            "loss: 0.511747  [   84/   97]\n",
            "tensor([[0., 1.],\n",
            "        [1., 0.]], device='cuda:0')\n",
            "loss: 9.985470  [   86/   97]\n",
            "tensor([[0., 1.],\n",
            "        [1., 0.]], device='cuda:0')\n",
            "loss: 6.347027  [   88/   97]\n",
            "tensor([[1., 0.],\n",
            "        [1., 0.]], device='cuda:0')\n",
            "loss: 2.100083  [   90/   97]\n",
            "tensor([[1., 0.],\n",
            "        [1., 0.]], device='cuda:0')\n",
            "loss: 1.248428  [   92/   97]\n",
            "tensor([[1., 0.],\n",
            "        [1., 0.]], device='cuda:0')\n",
            "loss: 1.148967  [   94/   97]\n",
            "tensor([[1., 0.]], device='cuda:0')\n",
            "loss: 0.868991  [   48/   97]\n",
            "Correct this batch = 2\n",
            "Correct this batch = 2\n",
            "Correct this batch = 1\n",
            "Correct this batch = 1\n",
            "Correct this batch = 2\n",
            "Correct this batch = 2\n",
            "Correct this batch = 2\n",
            "Correct this batch = 2\n",
            "Correct this batch = 1\n",
            "Correct this batch = 2\n",
            "Correct this batch = 1\n",
            "Validate Error: \n",
            " Accuracy: 85.7%, Avg loss: 2.500740 \n",
            "\n",
            "Epoch 3\n",
            "-------------------------------\n",
            "tensor([[0., 1.],\n",
            "        [1., 0.]], device='cuda:0')\n",
            "loss: 7.098783  [    0/   97]\n",
            "tensor([[1., 0.],\n",
            "        [1., 0.]], device='cuda:0')\n",
            "loss: 2.329530  [    2/   97]\n",
            "tensor([[1., 0.],\n",
            "        [1., 0.]], device='cuda:0')\n",
            "loss: 0.760081  [    4/   97]\n",
            "tensor([[0., 1.],\n",
            "        [1., 0.]], device='cuda:0')\n",
            "loss: 5.983788  [    6/   97]\n",
            "tensor([[1., 0.],\n",
            "        [1., 0.]], device='cuda:0')\n",
            "loss: 1.928311  [    8/   97]\n",
            "tensor([[1., 0.],\n",
            "        [1., 0.]], device='cuda:0')\n",
            "loss: 0.983696  [   10/   97]\n",
            "tensor([[1., 0.],\n",
            "        [1., 0.]], device='cuda:0')\n",
            "loss: 0.620311  [   12/   97]\n",
            "tensor([[0., 1.],\n",
            "        [1., 0.]], device='cuda:0')\n",
            "loss: 8.207660  [   14/   97]\n",
            "tensor([[1., 0.],\n",
            "        [0., 1.]], device='cuda:0')\n",
            "loss: 6.119201  [   16/   97]\n",
            "tensor([[1., 0.],\n",
            "        [1., 0.]], device='cuda:0')\n",
            "loss: 2.440336  [   18/   97]\n",
            "tensor([[1., 0.],\n",
            "        [1., 0.]], device='cuda:0')\n",
            "loss: 1.936835  [   20/   97]\n",
            "tensor([[1., 0.],\n",
            "        [1., 0.]], device='cuda:0')\n",
            "loss: 1.741047  [   22/   97]\n",
            "tensor([[1., 0.],\n",
            "        [1., 0.]], device='cuda:0')\n",
            "loss: 0.493937  [   24/   97]\n",
            "tensor([[1., 0.],\n",
            "        [1., 0.]], device='cuda:0')\n",
            "loss: 0.398357  [   26/   97]\n",
            "tensor([[1., 0.],\n",
            "        [1., 0.]], device='cuda:0')\n",
            "loss: 0.502788  [   28/   97]\n",
            "tensor([[1., 0.],\n",
            "        [1., 0.]], device='cuda:0')\n",
            "loss: 0.429486  [   30/   97]\n",
            "tensor([[1., 0.],\n",
            "        [1., 0.]], device='cuda:0')\n",
            "loss: 0.188110  [   32/   97]\n",
            "tensor([[1., 0.],\n",
            "        [1., 0.]], device='cuda:0')\n",
            "loss: 0.644863  [   34/   97]\n",
            "tensor([[1., 0.],\n",
            "        [1., 0.]], device='cuda:0')\n",
            "loss: 0.250712  [   36/   97]\n",
            "tensor([[1., 0.],\n",
            "        [1., 0.]], device='cuda:0')\n",
            "loss: 0.183215  [   38/   97]\n",
            "tensor([[0., 1.],\n",
            "        [0., 1.]], device='cuda:0')\n",
            "loss: 23.991222  [   40/   97]\n",
            "tensor([[1., 0.],\n",
            "        [1., 0.]], device='cuda:0')\n",
            "loss: 3.861917  [   42/   97]\n",
            "tensor([[0., 1.],\n",
            "        [1., 0.]], device='cuda:0')\n",
            "loss: 4.835915  [   44/   97]\n",
            "tensor([[1., 0.],\n",
            "        [1., 0.]], device='cuda:0')\n",
            "loss: 3.252875  [   46/   97]\n",
            "tensor([[0., 1.],\n",
            "        [1., 0.]], device='cuda:0')\n",
            "loss: 4.855901  [   48/   97]\n",
            "tensor([[1., 0.],\n",
            "        [1., 0.]], device='cuda:0')\n",
            "loss: 3.320380  [   50/   97]\n"
          ]
        },
        {
          "output_type": "error",
          "ename": "KeyboardInterrupt",
          "evalue": "ignored",
          "traceback": [
            "\u001b[0;31m---------------------------------------------------------------------------\u001b[0m",
            "\u001b[0;31mKeyboardInterrupt\u001b[0m                         Traceback (most recent call last)",
            "\u001b[0;32m<ipython-input-13-f5df567db8c1>\u001b[0m in \u001b[0;36m<module>\u001b[0;34m()\u001b[0m\n\u001b[1;32m      6\u001b[0m \u001b[0;32mfor\u001b[0m \u001b[0mt\u001b[0m \u001b[0;32min\u001b[0m \u001b[0mrange\u001b[0m\u001b[0;34m(\u001b[0m\u001b[0mepochs\u001b[0m\u001b[0;34m)\u001b[0m\u001b[0;34m:\u001b[0m\u001b[0;34m\u001b[0m\u001b[0;34m\u001b[0m\u001b[0m\n\u001b[1;32m      7\u001b[0m     \u001b[0mprint\u001b[0m\u001b[0;34m(\u001b[0m\u001b[0;34mf\"Epoch {t+1}\\n-------------------------------\"\u001b[0m\u001b[0;34m)\u001b[0m\u001b[0;34m\u001b[0m\u001b[0;34m\u001b[0m\u001b[0m\n\u001b[0;32m----> 8\u001b[0;31m     \u001b[0mtrain_loss\u001b[0m \u001b[0;34m=\u001b[0m \u001b[0mtrain_loop\u001b[0m\u001b[0;34m(\u001b[0m\u001b[0mtrain_dataloader\u001b[0m\u001b[0;34m,\u001b[0m \u001b[0mmodel\u001b[0m\u001b[0;34m,\u001b[0m \u001b[0mloss_fn\u001b[0m\u001b[0;34m,\u001b[0m \u001b[0moptimizer\u001b[0m\u001b[0;34m)\u001b[0m\u001b[0;34m\u001b[0m\u001b[0;34m\u001b[0m\u001b[0m\n\u001b[0m\u001b[1;32m      9\u001b[0m     \u001b[0mvalidate_loss\u001b[0m \u001b[0;34m=\u001b[0m \u001b[0mvalidate_loop\u001b[0m\u001b[0;34m(\u001b[0m\u001b[0mvalidate_dataloader\u001b[0m\u001b[0;34m,\u001b[0m \u001b[0mmodel\u001b[0m\u001b[0;34m,\u001b[0m \u001b[0mloss_fn\u001b[0m\u001b[0;34m)\u001b[0m\u001b[0;34m\u001b[0m\u001b[0;34m\u001b[0m\u001b[0m\n\u001b[1;32m     10\u001b[0m \u001b[0;34m\u001b[0m\u001b[0m\n",
            "\u001b[0;32m<ipython-input-12-3299510bf474>\u001b[0m in \u001b[0;36mtrain_loop\u001b[0;34m(dataloader, model, loss_fn, optimizer)\u001b[0m\n\u001b[1;32m      1\u001b[0m \u001b[0;32mdef\u001b[0m \u001b[0mtrain_loop\u001b[0m\u001b[0;34m(\u001b[0m\u001b[0mdataloader\u001b[0m\u001b[0;34m,\u001b[0m \u001b[0mmodel\u001b[0m\u001b[0;34m,\u001b[0m \u001b[0mloss_fn\u001b[0m\u001b[0;34m,\u001b[0m \u001b[0moptimizer\u001b[0m\u001b[0;34m)\u001b[0m\u001b[0;34m:\u001b[0m\u001b[0;34m\u001b[0m\u001b[0;34m\u001b[0m\u001b[0m\n\u001b[1;32m      2\u001b[0m     \u001b[0msize\u001b[0m \u001b[0;34m=\u001b[0m \u001b[0mlen\u001b[0m\u001b[0;34m(\u001b[0m\u001b[0mdataloader\u001b[0m\u001b[0;34m.\u001b[0m\u001b[0mdataset\u001b[0m\u001b[0;34m)\u001b[0m\u001b[0;34m\u001b[0m\u001b[0;34m\u001b[0m\u001b[0m\n\u001b[0;32m----> 3\u001b[0;31m     \u001b[0;32mfor\u001b[0m \u001b[0mbatch\u001b[0m\u001b[0;34m,\u001b[0m \u001b[0;34m(\u001b[0m\u001b[0mX\u001b[0m\u001b[0;34m,\u001b[0m \u001b[0my\u001b[0m\u001b[0;34m)\u001b[0m \u001b[0;32min\u001b[0m \u001b[0menumerate\u001b[0m\u001b[0;34m(\u001b[0m\u001b[0mdataloader\u001b[0m\u001b[0;34m)\u001b[0m\u001b[0;34m:\u001b[0m\u001b[0;34m\u001b[0m\u001b[0;34m\u001b[0m\u001b[0m\n\u001b[0m\u001b[1;32m      4\u001b[0m         \u001b[0;31m# Compute prediction and loss\u001b[0m\u001b[0;34m\u001b[0m\u001b[0;34m\u001b[0m\u001b[0;34m\u001b[0m\u001b[0m\n\u001b[1;32m      5\u001b[0m         \u001b[0mX\u001b[0m \u001b[0;34m=\u001b[0m \u001b[0mreshape\u001b[0m\u001b[0;34m(\u001b[0m\u001b[0mX\u001b[0m\u001b[0;34m,\u001b[0m \u001b[0;34m(\u001b[0m\u001b[0mX\u001b[0m\u001b[0;34m.\u001b[0m\u001b[0mshape\u001b[0m\u001b[0;34m[\u001b[0m\u001b[0;36m0\u001b[0m\u001b[0;34m]\u001b[0m\u001b[0;34m,\u001b[0m\u001b[0;36m1\u001b[0m\u001b[0;34m,\u001b[0m\u001b[0;36m246\u001b[0m\u001b[0;34m,\u001b[0m\u001b[0;36m246\u001b[0m\u001b[0;34m,\u001b[0m\u001b[0;36m246\u001b[0m\u001b[0;34m)\u001b[0m\u001b[0;34m)\u001b[0m\u001b[0;34m\u001b[0m\u001b[0;34m\u001b[0m\u001b[0m\n",
            "\u001b[0;32m/usr/local/lib/python3.7/dist-packages/torch/utils/data/dataloader.py\u001b[0m in \u001b[0;36m__next__\u001b[0;34m(self)\u001b[0m\n\u001b[1;32m    519\u001b[0m             \u001b[0;32mif\u001b[0m \u001b[0mself\u001b[0m\u001b[0;34m.\u001b[0m\u001b[0m_sampler_iter\u001b[0m \u001b[0;32mis\u001b[0m \u001b[0;32mNone\u001b[0m\u001b[0;34m:\u001b[0m\u001b[0;34m\u001b[0m\u001b[0;34m\u001b[0m\u001b[0m\n\u001b[1;32m    520\u001b[0m                 \u001b[0mself\u001b[0m\u001b[0;34m.\u001b[0m\u001b[0m_reset\u001b[0m\u001b[0;34m(\u001b[0m\u001b[0;34m)\u001b[0m\u001b[0;34m\u001b[0m\u001b[0;34m\u001b[0m\u001b[0m\n\u001b[0;32m--> 521\u001b[0;31m             \u001b[0mdata\u001b[0m \u001b[0;34m=\u001b[0m \u001b[0mself\u001b[0m\u001b[0;34m.\u001b[0m\u001b[0m_next_data\u001b[0m\u001b[0;34m(\u001b[0m\u001b[0;34m)\u001b[0m\u001b[0;34m\u001b[0m\u001b[0;34m\u001b[0m\u001b[0m\n\u001b[0m\u001b[1;32m    522\u001b[0m             \u001b[0mself\u001b[0m\u001b[0;34m.\u001b[0m\u001b[0m_num_yielded\u001b[0m \u001b[0;34m+=\u001b[0m \u001b[0;36m1\u001b[0m\u001b[0;34m\u001b[0m\u001b[0;34m\u001b[0m\u001b[0m\n\u001b[1;32m    523\u001b[0m             \u001b[0;32mif\u001b[0m \u001b[0mself\u001b[0m\u001b[0;34m.\u001b[0m\u001b[0m_dataset_kind\u001b[0m \u001b[0;34m==\u001b[0m \u001b[0m_DatasetKind\u001b[0m\u001b[0;34m.\u001b[0m\u001b[0mIterable\u001b[0m \u001b[0;32mand\u001b[0m\u001b[0;31m \u001b[0m\u001b[0;31m\\\u001b[0m\u001b[0;34m\u001b[0m\u001b[0;34m\u001b[0m\u001b[0m\n",
            "\u001b[0;32m/usr/local/lib/python3.7/dist-packages/torch/utils/data/dataloader.py\u001b[0m in \u001b[0;36m_next_data\u001b[0;34m(self)\u001b[0m\n\u001b[1;32m    559\u001b[0m     \u001b[0;32mdef\u001b[0m \u001b[0m_next_data\u001b[0m\u001b[0;34m(\u001b[0m\u001b[0mself\u001b[0m\u001b[0;34m)\u001b[0m\u001b[0;34m:\u001b[0m\u001b[0;34m\u001b[0m\u001b[0;34m\u001b[0m\u001b[0m\n\u001b[1;32m    560\u001b[0m         \u001b[0mindex\u001b[0m \u001b[0;34m=\u001b[0m \u001b[0mself\u001b[0m\u001b[0;34m.\u001b[0m\u001b[0m_next_index\u001b[0m\u001b[0;34m(\u001b[0m\u001b[0;34m)\u001b[0m  \u001b[0;31m# may raise StopIteration\u001b[0m\u001b[0;34m\u001b[0m\u001b[0;34m\u001b[0m\u001b[0m\n\u001b[0;32m--> 561\u001b[0;31m         \u001b[0mdata\u001b[0m \u001b[0;34m=\u001b[0m \u001b[0mself\u001b[0m\u001b[0;34m.\u001b[0m\u001b[0m_dataset_fetcher\u001b[0m\u001b[0;34m.\u001b[0m\u001b[0mfetch\u001b[0m\u001b[0;34m(\u001b[0m\u001b[0mindex\u001b[0m\u001b[0;34m)\u001b[0m  \u001b[0;31m# may raise StopIteration\u001b[0m\u001b[0;34m\u001b[0m\u001b[0;34m\u001b[0m\u001b[0m\n\u001b[0m\u001b[1;32m    562\u001b[0m         \u001b[0;32mif\u001b[0m \u001b[0mself\u001b[0m\u001b[0;34m.\u001b[0m\u001b[0m_pin_memory\u001b[0m\u001b[0;34m:\u001b[0m\u001b[0;34m\u001b[0m\u001b[0;34m\u001b[0m\u001b[0m\n\u001b[1;32m    563\u001b[0m             \u001b[0mdata\u001b[0m \u001b[0;34m=\u001b[0m \u001b[0m_utils\u001b[0m\u001b[0;34m.\u001b[0m\u001b[0mpin_memory\u001b[0m\u001b[0;34m.\u001b[0m\u001b[0mpin_memory\u001b[0m\u001b[0;34m(\u001b[0m\u001b[0mdata\u001b[0m\u001b[0;34m)\u001b[0m\u001b[0;34m\u001b[0m\u001b[0;34m\u001b[0m\u001b[0m\n",
            "\u001b[0;32m/usr/local/lib/python3.7/dist-packages/torch/utils/data/_utils/fetch.py\u001b[0m in \u001b[0;36mfetch\u001b[0;34m(self, possibly_batched_index)\u001b[0m\n\u001b[1;32m     47\u001b[0m     \u001b[0;32mdef\u001b[0m \u001b[0mfetch\u001b[0m\u001b[0;34m(\u001b[0m\u001b[0mself\u001b[0m\u001b[0;34m,\u001b[0m \u001b[0mpossibly_batched_index\u001b[0m\u001b[0;34m)\u001b[0m\u001b[0;34m:\u001b[0m\u001b[0;34m\u001b[0m\u001b[0;34m\u001b[0m\u001b[0m\n\u001b[1;32m     48\u001b[0m         \u001b[0;32mif\u001b[0m \u001b[0mself\u001b[0m\u001b[0;34m.\u001b[0m\u001b[0mauto_collation\u001b[0m\u001b[0;34m:\u001b[0m\u001b[0;34m\u001b[0m\u001b[0;34m\u001b[0m\u001b[0m\n\u001b[0;32m---> 49\u001b[0;31m             \u001b[0mdata\u001b[0m \u001b[0;34m=\u001b[0m \u001b[0;34m[\u001b[0m\u001b[0mself\u001b[0m\u001b[0;34m.\u001b[0m\u001b[0mdataset\u001b[0m\u001b[0;34m[\u001b[0m\u001b[0midx\u001b[0m\u001b[0;34m]\u001b[0m \u001b[0;32mfor\u001b[0m \u001b[0midx\u001b[0m \u001b[0;32min\u001b[0m \u001b[0mpossibly_batched_index\u001b[0m\u001b[0;34m]\u001b[0m\u001b[0;34m\u001b[0m\u001b[0;34m\u001b[0m\u001b[0m\n\u001b[0m\u001b[1;32m     50\u001b[0m         \u001b[0;32melse\u001b[0m\u001b[0;34m:\u001b[0m\u001b[0;34m\u001b[0m\u001b[0;34m\u001b[0m\u001b[0m\n\u001b[1;32m     51\u001b[0m             \u001b[0mdata\u001b[0m \u001b[0;34m=\u001b[0m \u001b[0mself\u001b[0m\u001b[0;34m.\u001b[0m\u001b[0mdataset\u001b[0m\u001b[0;34m[\u001b[0m\u001b[0mpossibly_batched_index\u001b[0m\u001b[0;34m]\u001b[0m\u001b[0;34m\u001b[0m\u001b[0;34m\u001b[0m\u001b[0m\n",
            "\u001b[0;32m/usr/local/lib/python3.7/dist-packages/torch/utils/data/_utils/fetch.py\u001b[0m in \u001b[0;36m<listcomp>\u001b[0;34m(.0)\u001b[0m\n\u001b[1;32m     47\u001b[0m     \u001b[0;32mdef\u001b[0m \u001b[0mfetch\u001b[0m\u001b[0;34m(\u001b[0m\u001b[0mself\u001b[0m\u001b[0;34m,\u001b[0m \u001b[0mpossibly_batched_index\u001b[0m\u001b[0;34m)\u001b[0m\u001b[0;34m:\u001b[0m\u001b[0;34m\u001b[0m\u001b[0;34m\u001b[0m\u001b[0m\n\u001b[1;32m     48\u001b[0m         \u001b[0;32mif\u001b[0m \u001b[0mself\u001b[0m\u001b[0;34m.\u001b[0m\u001b[0mauto_collation\u001b[0m\u001b[0;34m:\u001b[0m\u001b[0;34m\u001b[0m\u001b[0;34m\u001b[0m\u001b[0m\n\u001b[0;32m---> 49\u001b[0;31m             \u001b[0mdata\u001b[0m \u001b[0;34m=\u001b[0m \u001b[0;34m[\u001b[0m\u001b[0mself\u001b[0m\u001b[0;34m.\u001b[0m\u001b[0mdataset\u001b[0m\u001b[0;34m[\u001b[0m\u001b[0midx\u001b[0m\u001b[0;34m]\u001b[0m \u001b[0;32mfor\u001b[0m \u001b[0midx\u001b[0m \u001b[0;32min\u001b[0m \u001b[0mpossibly_batched_index\u001b[0m\u001b[0;34m]\u001b[0m\u001b[0;34m\u001b[0m\u001b[0;34m\u001b[0m\u001b[0m\n\u001b[0m\u001b[1;32m     50\u001b[0m         \u001b[0;32melse\u001b[0m\u001b[0;34m:\u001b[0m\u001b[0;34m\u001b[0m\u001b[0;34m\u001b[0m\u001b[0m\n\u001b[1;32m     51\u001b[0m             \u001b[0mdata\u001b[0m \u001b[0;34m=\u001b[0m \u001b[0mself\u001b[0m\u001b[0;34m.\u001b[0m\u001b[0mdataset\u001b[0m\u001b[0;34m[\u001b[0m\u001b[0mpossibly_batched_index\u001b[0m\u001b[0;34m]\u001b[0m\u001b[0;34m\u001b[0m\u001b[0;34m\u001b[0m\u001b[0m\n",
            "\u001b[0;32m<ipython-input-5-11f8b6fe23ed>\u001b[0m in \u001b[0;36m__getitem__\u001b[0;34m(self, idx)\u001b[0m\n\u001b[1;32m     35\u001b[0m     \u001b[0;32mdef\u001b[0m \u001b[0m__getitem__\u001b[0m\u001b[0;34m(\u001b[0m\u001b[0mself\u001b[0m\u001b[0;34m,\u001b[0m \u001b[0midx\u001b[0m\u001b[0;34m)\u001b[0m\u001b[0;34m:\u001b[0m\u001b[0;34m\u001b[0m\u001b[0;34m\u001b[0m\u001b[0m\n\u001b[1;32m     36\u001b[0m         \u001b[0mimg_path\u001b[0m \u001b[0;34m=\u001b[0m \u001b[0mos\u001b[0m\u001b[0;34m.\u001b[0m\u001b[0mpath\u001b[0m\u001b[0;34m.\u001b[0m\u001b[0mjoin\u001b[0m\u001b[0;34m(\u001b[0m\u001b[0mself\u001b[0m\u001b[0;34m.\u001b[0m\u001b[0mimg_dir\u001b[0m\u001b[0;34m,\u001b[0m \u001b[0mself\u001b[0m\u001b[0;34m.\u001b[0m\u001b[0mimg_labels\u001b[0m\u001b[0;34m[\u001b[0m\u001b[0midx\u001b[0m\u001b[0;34m]\u001b[0m\u001b[0;34m[\u001b[0m\u001b[0;36m0\u001b[0m\u001b[0;34m]\u001b[0m\u001b[0;34m+\u001b[0m\u001b[0;34m\".nii\"\u001b[0m\u001b[0;34m)\u001b[0m\u001b[0;34m\u001b[0m\u001b[0;34m\u001b[0m\u001b[0m\n\u001b[0;32m---> 37\u001b[0;31m         \u001b[0mimage_sitk\u001b[0m \u001b[0;34m=\u001b[0m \u001b[0msitk\u001b[0m\u001b[0;34m.\u001b[0m\u001b[0mReadImage\u001b[0m\u001b[0;34m(\u001b[0m\u001b[0mimg_path\u001b[0m\u001b[0;34m)\u001b[0m\u001b[0;34m\u001b[0m\u001b[0;34m\u001b[0m\u001b[0m\n\u001b[0m\u001b[1;32m     38\u001b[0m         \u001b[0mimage\u001b[0m \u001b[0;34m=\u001b[0m \u001b[0msitk\u001b[0m\u001b[0;34m.\u001b[0m\u001b[0mGetArrayFromImage\u001b[0m\u001b[0;34m(\u001b[0m\u001b[0mimage_sitk\u001b[0m\u001b[0;34m)\u001b[0m\u001b[0;34m\u001b[0m\u001b[0;34m\u001b[0m\u001b[0m\n\u001b[1;32m     39\u001b[0m         \u001b[0mlabel\u001b[0m \u001b[0;34m=\u001b[0m \u001b[0mself\u001b[0m\u001b[0;34m.\u001b[0m\u001b[0mimg_labels\u001b[0m\u001b[0;34m[\u001b[0m\u001b[0midx\u001b[0m\u001b[0;34m]\u001b[0m\u001b[0;34m[\u001b[0m\u001b[0;36m1\u001b[0m\u001b[0;34m]\u001b[0m\u001b[0;34m\u001b[0m\u001b[0;34m\u001b[0m\u001b[0m\n",
            "\u001b[0;32m/usr/local/lib/python3.7/dist-packages/SimpleITK/extra.py\u001b[0m in \u001b[0;36mReadImage\u001b[0;34m(fileName, outputPixelType, imageIO)\u001b[0m\n\u001b[1;32m    344\u001b[0m     \u001b[0mreader\u001b[0m\u001b[0;34m.\u001b[0m\u001b[0mSetImageIO\u001b[0m\u001b[0;34m(\u001b[0m\u001b[0mimageIO\u001b[0m\u001b[0;34m)\u001b[0m\u001b[0;34m\u001b[0m\u001b[0;34m\u001b[0m\u001b[0m\n\u001b[1;32m    345\u001b[0m     \u001b[0mreader\u001b[0m\u001b[0;34m.\u001b[0m\u001b[0mSetOutputPixelType\u001b[0m\u001b[0;34m(\u001b[0m\u001b[0moutputPixelType\u001b[0m\u001b[0;34m)\u001b[0m\u001b[0;34m\u001b[0m\u001b[0;34m\u001b[0m\u001b[0m\n\u001b[0;32m--> 346\u001b[0;31m     \u001b[0;32mreturn\u001b[0m \u001b[0mreader\u001b[0m\u001b[0;34m.\u001b[0m\u001b[0mExecute\u001b[0m\u001b[0;34m(\u001b[0m\u001b[0;34m)\u001b[0m\u001b[0;34m\u001b[0m\u001b[0;34m\u001b[0m\u001b[0m\n\u001b[0m\u001b[1;32m    347\u001b[0m \u001b[0;34m\u001b[0m\u001b[0m\n\u001b[1;32m    348\u001b[0m \u001b[0;34m\u001b[0m\u001b[0m\n",
            "\u001b[0;32m/usr/local/lib/python3.7/dist-packages/SimpleITK/SimpleITK.py\u001b[0m in \u001b[0;36mExecute\u001b[0;34m(self)\u001b[0m\n\u001b[1;32m   8013\u001b[0m \u001b[0;34m\u001b[0m\u001b[0m\n\u001b[1;32m   8014\u001b[0m         \"\"\"\n\u001b[0;32m-> 8015\u001b[0;31m         \u001b[0;32mreturn\u001b[0m \u001b[0m_SimpleITK\u001b[0m\u001b[0;34m.\u001b[0m\u001b[0mImageFileReader_Execute\u001b[0m\u001b[0;34m(\u001b[0m\u001b[0mself\u001b[0m\u001b[0;34m)\u001b[0m\u001b[0;34m\u001b[0m\u001b[0;34m\u001b[0m\u001b[0m\n\u001b[0m\u001b[1;32m   8016\u001b[0m \u001b[0;34m\u001b[0m\u001b[0m\n\u001b[1;32m   8017\u001b[0m     \u001b[0;32mdef\u001b[0m \u001b[0mReadImageInformation\u001b[0m\u001b[0;34m(\u001b[0m\u001b[0mself\u001b[0m\u001b[0;34m)\u001b[0m\u001b[0;34m:\u001b[0m\u001b[0;34m\u001b[0m\u001b[0;34m\u001b[0m\u001b[0m\n",
            "\u001b[0;31mKeyboardInterrupt\u001b[0m: "
          ]
        }
      ]
    },
    {
      "cell_type": "markdown",
      "source": [
        "# Test"
      ],
      "metadata": {
        "id": "NUCtjrHb6JAd"
      }
    },
    {
      "cell_type": "code",
      "source": [
        "def test_loop(dataloader, model):\n",
        "    size = len(dataloader.dataset)\n",
        "    num_batches = len(dataloader)\n",
        "    test_loss, correct = 0, 0\n",
        "\n",
        "    with torch.no_grad():\n",
        "        for X, y in dataloader:\n",
        "            X = reshape(X, (X.shape[0],1,246,246,246))\n",
        "            X = X.float()\n",
        "            X = X.to(device)\n",
        "            y = y.to(device)\n",
        "            #y = reshape(y, (y.shape[0],1))\n",
        "            hot_y = torch.empty((X.shape[0],2)).to(device)\n",
        "            for index in range(len(y)):\n",
        "              if y[index] == 0:\n",
        "                hot_y[index,0] = 1\n",
        "                hot_y[index,1] = 0\n",
        "              elif y[index] == 1:\n",
        "                hot_y[index,0] = 0\n",
        "                hot_y[index,1] = 1\n",
        "                \n",
        "            pred = model(X)\n",
        "            _,predictions = torch.max(pred , 1)\n",
        "            _,targets = torch.max(hot_y, 1)\n",
        "            torch.squeeze(pred)\n",
        "            #test_loss += loss_fn(pred, y.float()).item()\n",
        "            test_loss += loss_fn(pred, hot_y.float()).item()\n",
        "            #correct += (pred.argmax(1) == y).type(torch.float).sum().item()\n",
        "            correct += (predictions == targets).sum().item()\n",
        "\n",
        "    test_loss /= num_batches\n",
        "    correct /= size\n",
        "    print(f\"Test Error: \\n Accuracy: {(100*correct):>0.1f}%, Avg loss: {test_loss:>8f} \\n\")\n",
        "    return test_loss\n",
        "\n",
        "test_loop(test_dataloader, model)"
      ],
      "metadata": {
        "id": "MEuNq5Z-6IV6"
      },
      "execution_count": null,
      "outputs": []
    },
    {
      "cell_type": "markdown",
      "metadata": {
        "id": "2ZBw098GbFou"
      },
      "source": [
        "# Plot Losses"
      ]
    },
    {
      "cell_type": "code",
      "metadata": {
        "id": "fsmncBB6bEip",
        "colab": {
          "base_uri": "https://localhost:8080/",
          "height": 297
        },
        "outputId": "147dfe15-fdc4-44d6-fcd4-429735b09907"
      },
      "source": [
        "fig = plt.figure()\n",
        "ax = plt.axes()\n",
        "ax.plot(train_losses[0], train_losses[1], label=\"Train Loss\")\n",
        "ax.plot(validate_losses[0], validate_losses[1], label=\"Validate Loss\")\n",
        "ax.set_xlabel('Epoch')\n",
        "ax.set_ylabel('Loss')\n",
        "ax.legend()"
      ],
      "execution_count": 15,
      "outputs": [
        {
          "output_type": "execute_result",
          "data": {
            "text/plain": [
              "<matplotlib.legend.Legend at 0x7fe7904c26d0>"
            ]
          },
          "metadata": {},
          "execution_count": 15
        },
        {
          "output_type": "display_data",
          "data": {
            "image/png": "[encoded data removed]",
            "text/plain": [
              "<Figure size 432x288 with 1 Axes>"
            ]
          },
          "metadata": {
            "needs_background": "light"
          }
        }
      ]
    },
    {
      "cell_type": "markdown",
      "source": [
        "# Plot Accuracies"
      ],
      "metadata": {
        "id": "fFAdAFAECQ-K"
      }
    },
    {
      "cell_type": "code",
      "source": [
        "fig = plt.figure()\n",
        "ax = plt.axes()\n",
        "ax.plot(validate_accuracies[0], validate_accuracies[1], label=\"Validate Accuracies\")\n",
        "ax.legend()"
      ],
      "metadata": {
        "colab": {
          "base_uri": "https://localhost:8080/",
          "height": 283
        },
        "id": "2Q8g4JowCPkC",
        "outputId": "ad10ee63-f12d-4aa2-f732-fd09b9b1ade0"
      },
      "execution_count": 14,
      "outputs": [
        {
          "output_type": "execute_result",
          "data": {
            "text/plain": [
              "<matplotlib.legend.Legend at 0x7fe79052ed10>"
            ]
          },
          "metadata": {},
          "execution_count": 14
        },
        {
          "output_type": "display_data",
          "data": {
            "image/png": "[encoded data removed]",
            "text/plain": [
              "<Figure size 432x288 with 1 Axes>"
            ]
          },
          "metadata": {
            "needs_background": "light"
          }
        }
      ]
    }
  ]
}